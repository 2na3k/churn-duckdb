{
 "cells": [
  {
   "cell_type": "code",
   "execution_count": 53,
   "metadata": {},
   "outputs": [],
   "source": [
    "import pandas as pd\n",
    "import duckdb\n",
    "import sqlalchemy\n",
    "import matplotlib.pyplot as plt"
   ]
  },
  {
   "cell_type": "code",
   "execution_count": 2,
   "metadata": {},
   "outputs": [],
   "source": [
    "#Configuration the SQLAlchemy\n",
    "%config SqlMagic.autopandas = True\n",
    "%config SqlMagic.feedback = False\n",
    "%config SqlMagic.displaycon = False"
   ]
  },
  {
   "cell_type": "code",
   "execution_count": 3,
   "metadata": {},
   "outputs": [],
   "source": [
    "#import ipython-sql to Jupyter to create SQL cell, and connect with the duckdb\n",
    "%load_ext sql\n",
    "%sql duckdb:///:memory:\n",
    "# %sql duckdb:///legistators.db"
   ]
  },
  {
   "cell_type": "code",
   "execution_count": 7,
   "metadata": {},
   "outputs": [],
   "source": [
    "#Using Pandas, import the dataframes\n",
    "legislators = pd.read_csv('legislators.csv')\n",
    "legislators_terms = pd.read_csv('legislators_terms.csv')"
   ]
  },
  {
   "cell_type": "code",
   "execution_count": 21,
   "metadata": {},
   "outputs": [
    {
     "data": {
      "text/plain": [
       "Index(['full_name', 'first_name', 'last_name', 'middle_name', 'nickname',\n",
       "       'suffix', 'other_names_end', 'other_names_middle', 'other_names_last',\n",
       "       'birthday', 'gender', 'id_bioguide', 'id_bioguide_previous_0',\n",
       "       'id_govtrack', 'id_icpsr', 'id_wikipedia', 'id_wikidata',\n",
       "       'id_google_entity_id', 'id_house_history', 'id_house_history_alternate',\n",
       "       'id_thomas', 'id_cspan', 'id_votesmart', 'id_lis', 'id_ballotpedia',\n",
       "       'id_opensecrets', 'id_fec_0', 'id_fec_1', 'id_fec_2'],\n",
       "      dtype='object')"
      ]
     },
     "execution_count": 21,
     "metadata": {},
     "output_type": "execute_result"
    }
   ],
   "source": [
    "#legislators - info\n",
    "legislators.columns"
   ]
  },
  {
   "cell_type": "code",
   "execution_count": 10,
   "metadata": {},
   "outputs": [
    {
     "name": "stdout",
     "output_type": "stream",
     "text": [
      "<class 'pandas.core.frame.DataFrame'>\n",
      "RangeIndex: 44063 entries, 0 to 44062\n",
      "Data columns (total 20 columns):\n",
      " #   Column        Non-Null Count  Dtype  \n",
      "---  ------        --------------  -----  \n",
      " 0   id_bioguide   44063 non-null  object \n",
      " 1   term_number   44063 non-null  int64  \n",
      " 2   term_id       44063 non-null  object \n",
      " 3   term_type     44063 non-null  object \n",
      " 4   term_start    44063 non-null  object \n",
      " 5   term_end      44063 non-null  object \n",
      " 6   state         44063 non-null  object \n",
      " 7   district      40190 non-null  float64\n",
      " 8   class         3873 non-null   float64\n",
      " 9   party         43611 non-null  object \n",
      " 10  how           201 non-null    object \n",
      " 11  url           4386 non-null   object \n",
      " 12  address       2499 non-null   object \n",
      " 13  phone         2494 non-null   object \n",
      " 14  fax           1812 non-null   object \n",
      " 15  contact_form  1430 non-null   object \n",
      " 16  office        2492 non-null   object \n",
      " 17  state_rank    217 non-null    object \n",
      " 18  rss_url       1489 non-null   object \n",
      " 19  caucus        14 non-null     object \n",
      "dtypes: float64(2), int64(1), object(17)\n",
      "memory usage: 6.7+ MB\n"
     ]
    }
   ],
   "source": [
    "legislators_terms.info()"
   ]
  },
  {
   "cell_type": "markdown",
   "metadata": {},
   "source": [
    "This would be the magic part, I will fucking use SQL in the Python cell."
   ]
  },
  {
   "cell_type": "code",
   "execution_count": 60,
   "metadata": {},
   "outputs": [
    {
     "data": {
      "text/html": [
       "<div>\n",
       "<style scoped>\n",
       "    .dataframe tbody tr th:only-of-type {\n",
       "        vertical-align: middle;\n",
       "    }\n",
       "\n",
       "    .dataframe tbody tr th {\n",
       "        vertical-align: top;\n",
       "    }\n",
       "\n",
       "    .dataframe thead th {\n",
       "        text-align: right;\n",
       "    }\n",
       "</style>\n",
       "<table border=\"1\" class=\"dataframe\">\n",
       "  <thead>\n",
       "    <tr style=\"text-align: right;\">\n",
       "      <th></th>\n",
       "      <th>id_bioguide</th>\n",
       "      <th>first_term</th>\n",
       "    </tr>\n",
       "  </thead>\n",
       "  <tbody>\n",
       "    <tr>\n",
       "      <th>0</th>\n",
       "      <td>F000062</td>\n",
       "      <td>1992-11-10</td>\n",
       "    </tr>\n",
       "    <tr>\n",
       "      <th>1</th>\n",
       "      <td>T000464</td>\n",
       "      <td>2007-01-04</td>\n",
       "    </tr>\n",
       "    <tr>\n",
       "      <th>2</th>\n",
       "      <td>A000360</td>\n",
       "      <td>2003-01-07</td>\n",
       "    </tr>\n",
       "    <tr>\n",
       "      <th>3</th>\n",
       "      <td>G000359</td>\n",
       "      <td>1995-01-04</td>\n",
       "    </tr>\n",
       "    <tr>\n",
       "      <th>4</th>\n",
       "      <td>R000307</td>\n",
       "      <td>1981-01-05</td>\n",
       "    </tr>\n",
       "    <tr>\n",
       "      <th>...</th>\n",
       "      <td>...</td>\n",
       "      <td>...</td>\n",
       "    </tr>\n",
       "    <tr>\n",
       "      <th>12513</th>\n",
       "      <td>R000409</td>\n",
       "      <td>1989-01-03</td>\n",
       "    </tr>\n",
       "    <tr>\n",
       "      <th>12514</th>\n",
       "      <td>B000426</td>\n",
       "      <td>1951-01-03</td>\n",
       "    </tr>\n",
       "    <tr>\n",
       "      <th>12515</th>\n",
       "      <td>F000445</td>\n",
       "      <td>2001-06-26</td>\n",
       "    </tr>\n",
       "    <tr>\n",
       "      <th>12516</th>\n",
       "      <td>J000267</td>\n",
       "      <td>1958-04-19</td>\n",
       "    </tr>\n",
       "    <tr>\n",
       "      <th>12517</th>\n",
       "      <td>W000326</td>\n",
       "      <td>1983-01-03</td>\n",
       "    </tr>\n",
       "  </tbody>\n",
       "</table>\n",
       "<p>12518 rows × 2 columns</p>\n",
       "</div>"
      ],
      "text/plain": [
       "      id_bioguide first_term\n",
       "0         F000062 1992-11-10\n",
       "1         T000464 2007-01-04\n",
       "2         A000360 2003-01-07\n",
       "3         G000359 1995-01-04\n",
       "4         R000307 1981-01-05\n",
       "...           ...        ...\n",
       "12513     R000409 1989-01-03\n",
       "12514     B000426 1951-01-03\n",
       "12515     F000445 2001-06-26\n",
       "12516     J000267 1958-04-19\n",
       "12517     W000326 1983-01-03\n",
       "\n",
       "[12518 rows x 2 columns]"
      ]
     },
     "execution_count": 60,
     "metadata": {},
     "output_type": "execute_result"
    }
   ],
   "source": [
    "%%sql\n",
    "SELECT \n",
    "    id_bioguide,\n",
    "    min(term_start) as first_term\n",
    "FROM legislators_terms\n",
    "GROUP BY 1;"
   ]
  },
  {
   "cell_type": "code",
   "execution_count": 24,
   "metadata": {},
   "outputs": [
    {
     "name": "stdout",
     "output_type": "stream",
     "text": [
      "<class 'pandas.core.frame.DataFrame'>\n",
      "RangeIndex: 44063 entries, 0 to 44062\n",
      "Data columns (total 20 columns):\n",
      " #   Column        Non-Null Count  Dtype         \n",
      "---  ------        --------------  -----         \n",
      " 0   id_bioguide   44063 non-null  object        \n",
      " 1   term_number   44063 non-null  int64         \n",
      " 2   term_id       44063 non-null  object        \n",
      " 3   term_type     44063 non-null  object        \n",
      " 4   term_start    44063 non-null  datetime64[ns]\n",
      " 5   term_end      44063 non-null  datetime64[ns]\n",
      " 6   state         44063 non-null  object        \n",
      " 7   district      40190 non-null  float64       \n",
      " 8   class         3873 non-null   float64       \n",
      " 9   party         43611 non-null  object        \n",
      " 10  how           201 non-null    object        \n",
      " 11  url           4386 non-null   object        \n",
      " 12  address       2499 non-null   object        \n",
      " 13  phone         2494 non-null   object        \n",
      " 14  fax           1812 non-null   object        \n",
      " 15  contact_form  1430 non-null   object        \n",
      " 16  office        2492 non-null   object        \n",
      " 17  state_rank    217 non-null    object        \n",
      " 18  rss_url       1489 non-null   object        \n",
      " 19  caucus        14 non-null     object        \n",
      "dtypes: datetime64[ns](2), float64(2), int64(1), object(15)\n",
      "memory usage: 6.7+ MB\n"
     ]
    }
   ],
   "source": [
    "#legislators terms data-type format\n",
    "legislators_terms[\"term_start\"] = legislators_terms[\"term_start\"].astype('datetime64[ns]')\n",
    "legislators_terms[\"term_end\"] = legislators_terms[\"term_end\"].astype('datetime64[ns]')\n",
    "legislators_terms.info()"
   ]
  },
  {
   "cell_type": "code",
   "execution_count": 33,
   "metadata": {},
   "outputs": [
    {
     "data": {
      "text/html": [
       "<div>\n",
       "<style scoped>\n",
       "    .dataframe tbody tr th:only-of-type {\n",
       "        vertical-align: middle;\n",
       "    }\n",
       "\n",
       "    .dataframe tbody tr th {\n",
       "        vertical-align: top;\n",
       "    }\n",
       "\n",
       "    .dataframe thead th {\n",
       "        text-align: right;\n",
       "    }\n",
       "</style>\n",
       "<table border=\"1\" class=\"dataframe\">\n",
       "  <thead>\n",
       "    <tr style=\"text-align: right;\">\n",
       "      <th></th>\n",
       "      <th>yeah</th>\n",
       "    </tr>\n",
       "  </thead>\n",
       "  <tbody>\n",
       "    <tr>\n",
       "      <th>0</th>\n",
       "      <td>0</td>\n",
       "    </tr>\n",
       "  </tbody>\n",
       "</table>\n",
       "</div>"
      ],
      "text/plain": [
       "   yeah\n",
       "0     0"
      ]
     },
     "execution_count": 33,
     "metadata": {},
     "output_type": "execute_result"
    }
   ],
   "source": [
    "%%sql \n",
    "select 3/12 as yeah;"
   ]
  },
  {
   "cell_type": "code",
   "execution_count": 68,
   "metadata": {},
   "outputs": [
    {
     "name": "stdout",
     "output_type": "stream",
     "text": [
      "Returning data to local variable cohort_table\n"
     ]
    }
   ],
   "source": [
    "#there should be a select column like this for dividing the cohort_retained to cohort_size but yeah DuckDB is stupid on division.\n",
    "#cohort_retained / (first_value(cohort_retained) over (order by period)) as pct_retained\n",
    "%%sql cohort_table <<\n",
    "SELECT\n",
    "    period,\n",
    "    first_value(cohort_retained) over (order by period) as cohort_size,\n",
    "    cohort_retained,\n",
    "FROM \n",
    "(\n",
    "    SELECT \n",
    "        date_part('year', AGE(b.term_start, a.first_term)) as period,\n",
    "        COUNT(DISTINCT a.id_bioguide) as cohort_retained\n",
    "    FROM \n",
    "    (\n",
    "        SELECT \n",
    "            id_bioguide,\n",
    "            min(term_start) as first_term\n",
    "        FROM legislators_terms\n",
    "        GROUP BY 1\n",
    "    ) a\n",
    "    JOIN legislators_terms b ON a.id_bioguide = b.id_bioguide\n",
    "    GROUP BY 1   \n",
    ") aa\n",
    ";\n"
   ]
  },
  {
   "cell_type": "code",
   "execution_count": 52,
   "metadata": {},
   "outputs": [
    {
     "data": {
      "text/html": [
       "<div>\n",
       "<style scoped>\n",
       "    .dataframe tbody tr th:only-of-type {\n",
       "        vertical-align: middle;\n",
       "    }\n",
       "\n",
       "    .dataframe tbody tr th {\n",
       "        vertical-align: top;\n",
       "    }\n",
       "\n",
       "    .dataframe thead th {\n",
       "        text-align: right;\n",
       "    }\n",
       "</style>\n",
       "<table border=\"1\" class=\"dataframe\">\n",
       "  <thead>\n",
       "    <tr style=\"text-align: right;\">\n",
       "      <th></th>\n",
       "      <th>period</th>\n",
       "      <th>cohort_size</th>\n",
       "      <th>cohort_retained</th>\n",
       "      <th>pct_retained</th>\n",
       "    </tr>\n",
       "  </thead>\n",
       "  <tbody>\n",
       "    <tr>\n",
       "      <th>0</th>\n",
       "      <td>0</td>\n",
       "      <td>12518</td>\n",
       "      <td>12518</td>\n",
       "      <td>1.000000</td>\n",
       "    </tr>\n",
       "    <tr>\n",
       "      <th>1</th>\n",
       "      <td>1</td>\n",
       "      <td>12518</td>\n",
       "      <td>3600</td>\n",
       "      <td>0.287586</td>\n",
       "    </tr>\n",
       "    <tr>\n",
       "      <th>2</th>\n",
       "      <td>2</td>\n",
       "      <td>12518</td>\n",
       "      <td>3619</td>\n",
       "      <td>0.289104</td>\n",
       "    </tr>\n",
       "    <tr>\n",
       "      <th>3</th>\n",
       "      <td>3</td>\n",
       "      <td>12518</td>\n",
       "      <td>1831</td>\n",
       "      <td>0.146269</td>\n",
       "    </tr>\n",
       "    <tr>\n",
       "      <th>4</th>\n",
       "      <td>4</td>\n",
       "      <td>12518</td>\n",
       "      <td>3210</td>\n",
       "      <td>0.256431</td>\n",
       "    </tr>\n",
       "    <tr>\n",
       "      <th>5</th>\n",
       "      <td>5</td>\n",
       "      <td>12518</td>\n",
       "      <td>1744</td>\n",
       "      <td>0.139319</td>\n",
       "    </tr>\n",
       "    <tr>\n",
       "      <th>6</th>\n",
       "      <td>6</td>\n",
       "      <td>12518</td>\n",
       "      <td>2385</td>\n",
       "      <td>0.190526</td>\n",
       "    </tr>\n",
       "    <tr>\n",
       "      <th>7</th>\n",
       "      <td>7</td>\n",
       "      <td>12518</td>\n",
       "      <td>1360</td>\n",
       "      <td>0.108644</td>\n",
       "    </tr>\n",
       "    <tr>\n",
       "      <th>8</th>\n",
       "      <td>8</td>\n",
       "      <td>12518</td>\n",
       "      <td>1607</td>\n",
       "      <td>0.128375</td>\n",
       "    </tr>\n",
       "    <tr>\n",
       "      <th>9</th>\n",
       "      <td>9</td>\n",
       "      <td>12518</td>\n",
       "      <td>1028</td>\n",
       "      <td>0.082122</td>\n",
       "    </tr>\n",
       "  </tbody>\n",
       "</table>\n",
       "</div>"
      ],
      "text/plain": [
       "   period  cohort_size  cohort_retained  pct_retained\n",
       "0       0        12518            12518      1.000000\n",
       "1       1        12518             3600      0.287586\n",
       "2       2        12518             3619      0.289104\n",
       "3       3        12518             1831      0.146269\n",
       "4       4        12518             3210      0.256431\n",
       "5       5        12518             1744      0.139319\n",
       "6       6        12518             2385      0.190526\n",
       "7       7        12518             1360      0.108644\n",
       "8       8        12518             1607      0.128375\n",
       "9       9        12518             1028      0.082122"
      ]
     },
     "execution_count": 52,
     "metadata": {},
     "output_type": "execute_result"
    }
   ],
   "source": [
    "cohort_table[\"pct_retained\"] = cohort_table[\"cohort_retained\"] / cohort_table[\"cohort_size\"]\n",
    "cohort_table.head(10)"
   ]
  },
  {
   "cell_type": "code",
   "execution_count": 55,
   "metadata": {},
   "outputs": [
    {
     "data": {
      "image/png": "[encoded data removed]",
      "text/plain": [
       "<Figure size 1440x720 with 1 Axes>"
      ]
     },
     "metadata": {
      "needs_background": "light"
     },
     "output_type": "display_data"
    }
   ],
   "source": [
    "#plot the retention table\n",
    "plt.figure(figsize=(20,10))\n",
    "plt.plot(cohort_table.period, cohort_table.pct_retained, color='blue')\n",
    "plt.show()"
   ]
  },
  {
   "cell_type": "markdown",
   "metadata": {},
   "source": [
    "BREAKDOWN THE QUERY OVER THERE"
   ]
  },
  {
   "cell_type": "code",
   "execution_count": 66,
   "metadata": {},
   "outputs": [
    {
     "data": {
      "text/html": [
       "<div>\n",
       "<style scoped>\n",
       "    .dataframe tbody tr th:only-of-type {\n",
       "        vertical-align: middle;\n",
       "    }\n",
       "\n",
       "    .dataframe tbody tr th {\n",
       "        vertical-align: top;\n",
       "    }\n",
       "\n",
       "    .dataframe thead th {\n",
       "        text-align: right;\n",
       "    }\n",
       "</style>\n",
       "<table border=\"1\" class=\"dataframe\">\n",
       "  <thead>\n",
       "    <tr style=\"text-align: right;\">\n",
       "      <th></th>\n",
       "      <th>id_bioguide</th>\n",
       "      <th>first_term</th>\n",
       "    </tr>\n",
       "  </thead>\n",
       "  <tbody>\n",
       "    <tr>\n",
       "      <th>0</th>\n",
       "      <td>F000062</td>\n",
       "      <td>1992-11-10</td>\n",
       "    </tr>\n",
       "    <tr>\n",
       "      <th>1</th>\n",
       "      <td>T000464</td>\n",
       "      <td>2007-01-04</td>\n",
       "    </tr>\n",
       "    <tr>\n",
       "      <th>2</th>\n",
       "      <td>A000360</td>\n",
       "      <td>2003-01-07</td>\n",
       "    </tr>\n",
       "    <tr>\n",
       "      <th>3</th>\n",
       "      <td>G000359</td>\n",
       "      <td>1995-01-04</td>\n",
       "    </tr>\n",
       "    <tr>\n",
       "      <th>4</th>\n",
       "      <td>R000307</td>\n",
       "      <td>1981-01-05</td>\n",
       "    </tr>\n",
       "    <tr>\n",
       "      <th>...</th>\n",
       "      <td>...</td>\n",
       "      <td>...</td>\n",
       "    </tr>\n",
       "    <tr>\n",
       "      <th>12513</th>\n",
       "      <td>R000409</td>\n",
       "      <td>1989-01-03</td>\n",
       "    </tr>\n",
       "    <tr>\n",
       "      <th>12514</th>\n",
       "      <td>B000426</td>\n",
       "      <td>1951-01-03</td>\n",
       "    </tr>\n",
       "    <tr>\n",
       "      <th>12515</th>\n",
       "      <td>F000445</td>\n",
       "      <td>2001-06-26</td>\n",
       "    </tr>\n",
       "    <tr>\n",
       "      <th>12516</th>\n",
       "      <td>J000267</td>\n",
       "      <td>1958-04-19</td>\n",
       "    </tr>\n",
       "    <tr>\n",
       "      <th>12517</th>\n",
       "      <td>W000326</td>\n",
       "      <td>1983-01-03</td>\n",
       "    </tr>\n",
       "  </tbody>\n",
       "</table>\n",
       "<p>12518 rows × 2 columns</p>\n",
       "</div>"
      ],
      "text/plain": [
       "      id_bioguide first_term\n",
       "0         F000062 1992-11-10\n",
       "1         T000464 2007-01-04\n",
       "2         A000360 2003-01-07\n",
       "3         G000359 1995-01-04\n",
       "4         R000307 1981-01-05\n",
       "...           ...        ...\n",
       "12513     R000409 1989-01-03\n",
       "12514     B000426 1951-01-03\n",
       "12515     F000445 2001-06-26\n",
       "12516     J000267 1958-04-19\n",
       "12517     W000326 1983-01-03\n",
       "\n",
       "[12518 rows x 2 columns]"
      ]
     },
     "execution_count": 66,
     "metadata": {},
     "output_type": "execute_result"
    }
   ],
   "source": [
    "%%sql\n",
    "SELECT \n",
    "    id_bioguide,\n",
    "    min(term_start) as first_term\n",
    "FROM legislators_terms\n",
    "GROUP BY 1;"
   ]
  },
  {
   "cell_type": "code",
   "execution_count": null,
   "metadata": {},
   "outputs": [],
   "source": [
    "%%sql\n",
    "SELECT \n",
    "    date_part('year', AGE(b.term_start, a.first_term)) as period,\n",
    "    COUNT(DISTINCT a.id_bioguide) as cohort_retained\n",
    "FROM \n",
    "(\n",
    "    SELECT \n",
    "        id_bioguide,\n",
    "        min(term_start) as first_term\n",
    "    FROM legislators_terms\n",
    "    GROUP BY 1\n",
    ") a\n",
    "JOIN legislators_terms b ON a.id_bioguide = b.id_bioguide\n",
    "GROUP BY 1;"
   ]
  },
  {
   "cell_type": "code",
   "execution_count": null,
   "metadata": {},
   "outputs": [],
   "source": [
    "SELECT\n",
    "    period,\n",
    "    first_value(cohort_retained) over (order by period) as cohort_size,\n",
    "    cohort_retained,\n",
    "FROM \n",
    "(\n",
    "    SELECT \n",
    "        date_part('year', AGE(b.term_start, a.first_term)) as period,\n",
    "        COUNT(DISTINCT a.id_bioguide) as cohort_retained\n",
    "    FROM \n",
    "    (\n",
    "        SELECT \n",
    "            id_bioguide,\n",
    "            min(term_start) as first_term\n",
    "        FROM legislators_terms\n",
    "        GROUP BY 1\n",
    "    ) a\n",
    "    JOIN legislators_terms b ON a.id_bioguide = b.id_bioguide\n",
    "    GROUP BY 1   \n",
    ") aa\n",
    ";"
   ]
  },
  {
   "cell_type": "markdown",
   "metadata": {},
   "source": [
    "Another try: still the cohort but you need to have something else"
   ]
  },
  {
   "cell_type": "markdown",
   "metadata": {},
   "source": [
    "#### HAHA"
   ]
  }
 ],
 "metadata": {
  "kernelspec": {
   "display_name": "Python 3.10.4 64-bit",
   "language": "python",
   "name": "python3"
  },
  "language_info": {
   "codemirror_mode": {
    "name": "ipython",
    "version": 3
   },
   "file_extension": ".py",
   "mimetype": "text/x-python",
   "name": "python",
   "nbconvert_exporter": "python",
   "pygments_lexer": "ipython3",
   "version": "3.10.4"
  },
  "orig_nbformat": 4,
  "vscode": {
   "interpreter": {
    "hash": "8c3d4d9970fc5c09c50d9318a9c7fbf4d0159e4b28833276f5678ee22bded273"
   }
  }
 },
 "nbformat": 4,
 "nbformat_minor": 2
}
