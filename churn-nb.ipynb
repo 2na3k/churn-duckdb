{
 "cells": [
  {
   "cell_type": "markdown",
   "metadata": {},
   "source": [
    "# Churn analysis and visualization by SQL (and Plotly)"
   ]
  },
  {
   "cell_type": "markdown",
   "metadata": {},
   "source": [
    "## Preparation\n",
    "I have to change the plain text of the .csv file to data, and setting up the database for running this notebook."
   ]
  },
  {
   "cell_type": "code",
   "execution_count": 1,
   "metadata": {},
   "outputs": [],
   "source": [
    "import pandas as pd\n",
    "import duckdb\n",
    "import sqlalchemy\n",
    "import plotly.express as px"
   ]
  },
  {
   "cell_type": "code",
   "execution_count": 2,
   "metadata": {},
   "outputs": [],
   "source": [
    "#Configuration the SQLAlchemy\n",
    "%config SqlMagic.autopandas = True\n",
    "%config SqlMagic.feedback = False\n",
    "%config SqlMagic.displaycon = False\n",
    "\n",
    "#import ipython-sql to Jupyter to create SQL cell, and connect with the duckdb\n",
    "%load_ext sql\n",
    "%sql duckdb:///:memory:\n",
    "# DuckDB would read the files from the memories, like when I save a dataframe on a variable, it would accept to directly query from it."
   ]
  },
  {
   "cell_type": "code",
   "execution_count": 3,
   "metadata": {},
   "outputs": [
    {
     "name": "stdout",
     "output_type": "stream",
     "text": [
      "<class 'pandas.core.frame.DataFrame'>\n",
      "RangeIndex: 44063 entries, 0 to 44062\n",
      "Data columns (total 20 columns):\n",
      " #   Column        Non-Null Count  Dtype         \n",
      "---  ------        --------------  -----         \n",
      " 0   id_bioguide   44063 non-null  object        \n",
      " 1   term_number   44063 non-null  int64         \n",
      " 2   term_id       44063 non-null  object        \n",
      " 3   term_type     44063 non-null  object        \n",
      " 4   term_start    44063 non-null  datetime64[ns]\n",
      " 5   term_end      44063 non-null  datetime64[ns]\n",
      " 6   state         44063 non-null  object        \n",
      " 7   district      40190 non-null  float64       \n",
      " 8   class         3873 non-null   float64       \n",
      " 9   party         43611 non-null  object        \n",
      " 10  how           201 non-null    object        \n",
      " 11  url           4386 non-null   object        \n",
      " 12  address       2499 non-null   object        \n",
      " 13  phone         2494 non-null   object        \n",
      " 14  fax           1812 non-null   object        \n",
      " 15  contact_form  1430 non-null   object        \n",
      " 16  office        2492 non-null   object        \n",
      " 17  state_rank    217 non-null    object        \n",
      " 18  rss_url       1489 non-null   object        \n",
      " 19  caucus        14 non-null     object        \n",
      "dtypes: datetime64[ns](2), float64(2), int64(1), object(15)\n",
      "memory usage: 6.7+ MB\n"
     ]
    }
   ],
   "source": [
    "#Using Pandas, import the dataframes\n",
    "legislators = pd.read_csv('legislators.csv')\n",
    "legislators_terms = pd.read_csv('legislators_terms.csv')\n",
    "\n",
    "#legislators terms data-type format\n",
    "legislators_terms[\"term_start\"] = legislators_terms[\"term_start\"].astype('datetime64[ns]')\n",
    "legislators_terms[\"term_end\"] = legislators_terms[\"term_end\"].astype('datetime64[ns]')\n",
    "legislators_terms.info()"
   ]
  },
  {
   "cell_type": "markdown",
   "metadata": {},
   "source": [
    "This would be the magic part, I will fucking use SQL in the Python cell (by using the SQLAlchemy engine, with DuckDB). This kind of stack is optimal for OLAP, since they can run the database right on the memory of the machine and use T-SQL to transform the view of the data as they want right in the pipeline."
   ]
  },
  {
   "cell_type": "code",
   "execution_count": 60,
   "metadata": {},
   "outputs": [
    {
     "data": {
      "text/html": [
       "<div>\n",
       "<style scoped>\n",
       "    .dataframe tbody tr th:only-of-type {\n",
       "        vertical-align: middle;\n",
       "    }\n",
       "\n",
       "    .dataframe tbody tr th {\n",
       "        vertical-align: top;\n",
       "    }\n",
       "\n",
       "    .dataframe thead th {\n",
       "        text-align: right;\n",
       "    }\n",
       "</style>\n",
       "<table border=\"1\" class=\"dataframe\">\n",
       "  <thead>\n",
       "    <tr style=\"text-align: right;\">\n",
       "      <th></th>\n",
       "      <th>id_bioguide</th>\n",
       "      <th>first_term</th>\n",
       "    </tr>\n",
       "  </thead>\n",
       "  <tbody>\n",
       "    <tr>\n",
       "      <th>0</th>\n",
       "      <td>F000062</td>\n",
       "      <td>1992-11-10</td>\n",
       "    </tr>\n",
       "    <tr>\n",
       "      <th>1</th>\n",
       "      <td>T000464</td>\n",
       "      <td>2007-01-04</td>\n",
       "    </tr>\n",
       "    <tr>\n",
       "      <th>2</th>\n",
       "      <td>A000360</td>\n",
       "      <td>2003-01-07</td>\n",
       "    </tr>\n",
       "    <tr>\n",
       "      <th>3</th>\n",
       "      <td>G000359</td>\n",
       "      <td>1995-01-04</td>\n",
       "    </tr>\n",
       "    <tr>\n",
       "      <th>4</th>\n",
       "      <td>R000307</td>\n",
       "      <td>1981-01-05</td>\n",
       "    </tr>\n",
       "    <tr>\n",
       "      <th>...</th>\n",
       "      <td>...</td>\n",
       "      <td>...</td>\n",
       "    </tr>\n",
       "    <tr>\n",
       "      <th>12513</th>\n",
       "      <td>R000409</td>\n",
       "      <td>1989-01-03</td>\n",
       "    </tr>\n",
       "    <tr>\n",
       "      <th>12514</th>\n",
       "      <td>B000426</td>\n",
       "      <td>1951-01-03</td>\n",
       "    </tr>\n",
       "    <tr>\n",
       "      <th>12515</th>\n",
       "      <td>F000445</td>\n",
       "      <td>2001-06-26</td>\n",
       "    </tr>\n",
       "    <tr>\n",
       "      <th>12516</th>\n",
       "      <td>J000267</td>\n",
       "      <td>1958-04-19</td>\n",
       "    </tr>\n",
       "    <tr>\n",
       "      <th>12517</th>\n",
       "      <td>W000326</td>\n",
       "      <td>1983-01-03</td>\n",
       "    </tr>\n",
       "  </tbody>\n",
       "</table>\n",
       "<p>12518 rows × 2 columns</p>\n",
       "</div>"
      ],
      "text/plain": [
       "      id_bioguide first_term\n",
       "0         F000062 1992-11-10\n",
       "1         T000464 2007-01-04\n",
       "2         A000360 2003-01-07\n",
       "3         G000359 1995-01-04\n",
       "4         R000307 1981-01-05\n",
       "...           ...        ...\n",
       "12513     R000409 1989-01-03\n",
       "12514     B000426 1951-01-03\n",
       "12515     F000445 2001-06-26\n",
       "12516     J000267 1958-04-19\n",
       "12517     W000326 1983-01-03\n",
       "\n",
       "[12518 rows x 2 columns]"
      ]
     },
     "execution_count": 60,
     "metadata": {},
     "output_type": "execute_result"
    }
   ],
   "source": [
    "%%sql\n",
    "SELECT \n",
    "    id_bioguide,\n",
    "    min(term_start) as first_term\n",
    "FROM legislators_terms\n",
    "GROUP BY 1;"
   ]
  },
  {
   "cell_type": "markdown",
   "metadata": {},
   "source": [
    "## The overall query of cohort for this case"
   ]
  },
  {
   "cell_type": "code",
   "execution_count": 4,
   "metadata": {},
   "outputs": [
    {
     "name": "stdout",
     "output_type": "stream",
     "text": [
      "Returning data to local variable cohort_table\n"
     ]
    }
   ],
   "source": [
    "%%sql cohort_table <<\n",
    "SELECT\n",
    "    period,\n",
    "    first_value(cohort_retained) over (order by period) as cohort_size,\n",
    "    cohort_retained,\n",
    "    cohort_retained::DOUBLE / \n",
    "        (first_value(cohort_retained) \n",
    "                    over (order by period))::DOUBLE AS pct_retention\n",
    "FROM \n",
    "(\n",
    "    SELECT \n",
    "        date_part('year', AGE(b.term_start, a.first_term)) as period,\n",
    "        COUNT(DISTINCT a.id_bioguide) as cohort_retained\n",
    "    FROM \n",
    "    (\n",
    "        SELECT \n",
    "            id_bioguide,\n",
    "            min(term_start) as first_term\n",
    "        FROM legislators_terms\n",
    "        GROUP BY 1\n",
    "    ) a\n",
    "    JOIN legislators_terms b ON a.id_bioguide = b.id_bioguide\n",
    "    GROUP BY 1   \n",
    ") aa\n",
    ";"
   ]
  },
  {
   "cell_type": "code",
   "execution_count": 7,
   "metadata": {},
   "outputs": [
    {
     "data": {
      "application/vnd.plotly.v1+json": {
       "config": {
        "plotlyServerURL": "https://plot.ly"
       },
       "data": [
        {
         "hovertemplate": "period=%{x}<br>pct_retention=%{y}<extra></extra>",
         "legendgroup": "",
         "line": {
          "color": "#636efa",
          "dash": "solid"
         },
         "marker": {
          "symbol": "circle"
         },
         "mode": "lines",
         "name": "",
         "orientation": "v",
         "showlegend": false,
         "type": "scatter",
         "x": [
          0,
          1,
          2,
          3,
          4,
          5,
          6,
          7,
          8,
          9,
          10,
          11,
          12,
          13,
          14,
          15,
          16,
          17,
          18,
          19,
          20,
          21,
          22,
          23,
          24,
          25,
          26,
          27,
          28,
          29,
          30,
          31,
          32,
          33,
          34,
          35,
          36,
          37,
          38,
          39,
          40,
          41,
          42,
          43,
          44,
          45,
          46,
          47,
          48,
          49,
          50,
          51,
          52,
          53,
          54,
          56,
          57
         ],
         "xaxis": "x",
         "y": [
          1,
          0.2875858763380732,
          0.28910369068541303,
          0.14626937210417,
          0.2564307397347819,
          0.13931938009266656,
          0.1905256430739735,
          0.10864355328327209,
          0.1283751397986899,
          0.08212174468764978,
          0.11167918197795175,
          0.07333439846620866,
          0.09466368429461575,
          0.06862118549289024,
          0.05711775043936731,
          0.03498961495446557,
          0.06806199073334399,
          0.04457581083240134,
          0.043617191244607764,
          0.02979709218725036,
          0.03179421632848698,
          0.022367790381850137,
          0.030276401981147148,
          0.024684454385684614,
          0.018133887202428502,
          0.017814347339830644,
          0.01421952388560473,
          0.009506310912286308,
          0.015018373542099377,
          0.011263780156574532,
          0.00870746125579166,
          0.0071896469084518294,
          0.006231027320658252,
          0.004872982904617351,
          0.005272407732864675,
          0.004793097938967887,
          0.003115513660329126,
          0.003435053522926985,
          0.002077009106886084,
          0.002476433935133408,
          0.0011183895190925068,
          0.0014379293816903658,
          0.0012781594503914362,
          0.0009586195877935772,
          0.0005591947595462534,
          0.0011183895190925068,
          0.0002396548969483943,
          0.0004793097938967886,
          0.00039942482824732386,
          0.0002396548969483943,
          0.00031953986259785906,
          0.00039942482824732386,
          0.00007988496564946476,
          0.00007988496564946476,
          0.00015976993129892953,
          0.00007988496564946476,
          0.00007988496564946476
         ],
         "yaxis": "y"
        }
       ],
       "layout": {
        "legend": {
         "tracegroupgap": 0
        },
        "margin": {
         "t": 60
        },
        "template": {
         "data": {
          "bar": [
           {
            "error_x": {
             "color": "#2a3f5f"
            },
            "error_y": {
             "color": "#2a3f5f"
            },
            "marker": {
             "line": {
              "color": "#E5ECF6",
              "width": 0.5
             },
             "pattern": {
              "fillmode": "overlay",
              "size": 10,
              "solidity": 0.2
             }
            },
            "type": "bar"
           }
          ],
          "barpolar": [
           {
            "marker": {
             "line": {
              "color": "#E5ECF6",
              "width": 0.5
             },
             "pattern": {
              "fillmode": "overlay",
              "size": 10,
              "solidity": 0.2
             }
            },
            "type": "barpolar"
           }
          ],
          "carpet": [
           {
            "aaxis": {
             "endlinecolor": "#2a3f5f",
             "gridcolor": "white",
             "linecolor": "white",
             "minorgridcolor": "white",
             "startlinecolor": "#2a3f5f"
            },
            "baxis": {
             "endlinecolor": "#2a3f5f",
             "gridcolor": "white",
             "linecolor": "white",
             "minorgridcolor": "white",
             "startlinecolor": "#2a3f5f"
            },
            "type": "carpet"
           }
          ],
          "choropleth": [
           {
            "colorbar": {
             "outlinewidth": 0,
             "ticks": ""
            },
            "type": "choropleth"
           }
          ],
          "contour": [
           {
            "colorbar": {
             "outlinewidth": 0,
             "ticks": ""
            },
            "colorscale": [
             [
              0,
              "#0d0887"
             ],
             [
              0.1111111111111111,
              "#46039f"
             ],
             [
              0.2222222222222222,
              "#7201a8"
             ],
             [
              0.3333333333333333,
              "#9c179e"
             ],
             [
              0.4444444444444444,
              "#bd3786"
             ],
             [
              0.5555555555555556,
              "#d8576b"
             ],
             [
              0.6666666666666666,
              "#ed7953"
             ],
             [
              0.7777777777777778,
              "#fb9f3a"
             ],
             [
              0.8888888888888888,
              "#fdca26"
             ],
             [
              1,
              "#f0f921"
             ]
            ],
            "type": "contour"
           }
          ],
          "contourcarpet": [
           {
            "colorbar": {
             "outlinewidth": 0,
             "ticks": ""
            },
            "type": "contourcarpet"
           }
          ],
          "heatmap": [
           {
            "colorbar": {
             "outlinewidth": 0,
             "ticks": ""
            },
            "colorscale": [
             [
              0,
              "#0d0887"
             ],
             [
              0.1111111111111111,
              "#46039f"
             ],
             [
              0.2222222222222222,
              "#7201a8"
             ],
             [
              0.3333333333333333,
              "#9c179e"
             ],
             [
              0.4444444444444444,
              "#bd3786"
             ],
             [
              0.5555555555555556,
              "#d8576b"
             ],
             [
              0.6666666666666666,
              "#ed7953"
             ],
             [
              0.7777777777777778,
              "#fb9f3a"
             ],
             [
              0.8888888888888888,
              "#fdca26"
             ],
             [
              1,
              "#f0f921"
             ]
            ],
            "type": "heatmap"
           }
          ],
          "heatmapgl": [
           {
            "colorbar": {
             "outlinewidth": 0,
             "ticks": ""
            },
            "colorscale": [
             [
              0,
              "#0d0887"
             ],
             [
              0.1111111111111111,
              "#46039f"
             ],
             [
              0.2222222222222222,
              "#7201a8"
             ],
             [
              0.3333333333333333,
              "#9c179e"
             ],
             [
              0.4444444444444444,
              "#bd3786"
             ],
             [
              0.5555555555555556,
              "#d8576b"
             ],
             [
              0.6666666666666666,
              "#ed7953"
             ],
             [
              0.7777777777777778,
              "#fb9f3a"
             ],
             [
              0.8888888888888888,
              "#fdca26"
             ],
             [
              1,
              "#f0f921"
             ]
            ],
            "type": "heatmapgl"
           }
          ],
          "histogram": [
           {
            "marker": {
             "pattern": {
              "fillmode": "overlay",
              "size": 10,
              "solidity": 0.2
             }
            },
            "type": "histogram"
           }
          ],
          "histogram2d": [
           {
            "colorbar": {
             "outlinewidth": 0,
             "ticks": ""
            },
            "colorscale": [
             [
              0,
              "#0d0887"
             ],
             [
              0.1111111111111111,
              "#46039f"
             ],
             [
              0.2222222222222222,
              "#7201a8"
             ],
             [
              0.3333333333333333,
              "#9c179e"
             ],
             [
              0.4444444444444444,
              "#bd3786"
             ],
             [
              0.5555555555555556,
              "#d8576b"
             ],
             [
              0.6666666666666666,
              "#ed7953"
             ],
             [
              0.7777777777777778,
              "#fb9f3a"
             ],
             [
              0.8888888888888888,
              "#fdca26"
             ],
             [
              1,
              "#f0f921"
             ]
            ],
            "type": "histogram2d"
           }
          ],
          "histogram2dcontour": [
           {
            "colorbar": {
             "outlinewidth": 0,
             "ticks": ""
            },
            "colorscale": [
             [
              0,
              "#0d0887"
             ],
             [
              0.1111111111111111,
              "#46039f"
             ],
             [
              0.2222222222222222,
              "#7201a8"
             ],
             [
              0.3333333333333333,
              "#9c179e"
             ],
             [
              0.4444444444444444,
              "#bd3786"
             ],
             [
              0.5555555555555556,
              "#d8576b"
             ],
             [
              0.6666666666666666,
              "#ed7953"
             ],
             [
              0.7777777777777778,
              "#fb9f3a"
             ],
             [
              0.8888888888888888,
              "#fdca26"
             ],
             [
              1,
              "#f0f921"
             ]
            ],
            "type": "histogram2dcontour"
           }
          ],
          "mesh3d": [
           {
            "colorbar": {
             "outlinewidth": 0,
             "ticks": ""
            },
            "type": "mesh3d"
           }
          ],
          "parcoords": [
           {
            "line": {
             "colorbar": {
              "outlinewidth": 0,
              "ticks": ""
             }
            },
            "type": "parcoords"
           }
          ],
          "pie": [
           {
            "automargin": true,
            "type": "pie"
           }
          ],
          "scatter": [
           {
            "fillpattern": {
             "fillmode": "overlay",
             "size": 10,
             "solidity": 0.2
            },
            "type": "scatter"
           }
          ],
          "scatter3d": [
           {
            "line": {
             "colorbar": {
              "outlinewidth": 0,
              "ticks": ""
             }
            },
            "marker": {
             "colorbar": {
              "outlinewidth": 0,
              "ticks": ""
             }
            },
            "type": "scatter3d"
           }
          ],
          "scattercarpet": [
           {
            "marker": {
             "colorbar": {
              "outlinewidth": 0,
              "ticks": ""
             }
            },
            "type": "scattercarpet"
           }
          ],
          "scattergeo": [
           {
            "marker": {
             "colorbar": {
              "outlinewidth": 0,
              "ticks": ""
             }
            },
            "type": "scattergeo"
           }
          ],
          "scattergl": [
           {
            "marker": {
             "colorbar": {
              "outlinewidth": 0,
              "ticks": ""
             }
            },
            "type": "scattergl"
           }
          ],
          "scattermapbox": [
           {
            "marker": {
             "colorbar": {
              "outlinewidth": 0,
              "ticks": ""
             }
            },
            "type": "scattermapbox"
           }
          ],
          "scatterpolar": [
           {
            "marker": {
             "colorbar": {
              "outlinewidth": 0,
              "ticks": ""
             }
            },
            "type": "scatterpolar"
           }
          ],
          "scatterpolargl": [
           {
            "marker": {
             "colorbar": {
              "outlinewidth": 0,
              "ticks": ""
             }
            },
            "type": "scatterpolargl"
           }
          ],
          "scatterternary": [
           {
            "marker": {
             "colorbar": {
              "outlinewidth": 0,
              "ticks": ""
             }
            },
            "type": "scatterternary"
           }
          ],
          "surface": [
           {
            "colorbar": {
             "outlinewidth": 0,
             "ticks": ""
            },
            "colorscale": [
             [
              0,
              "#0d0887"
             ],
             [
              0.1111111111111111,
              "#46039f"
             ],
             [
              0.2222222222222222,
              "#7201a8"
             ],
             [
              0.3333333333333333,
              "#9c179e"
             ],
             [
              0.4444444444444444,
              "#bd3786"
             ],
             [
              0.5555555555555556,
              "#d8576b"
             ],
             [
              0.6666666666666666,
              "#ed7953"
             ],
             [
              0.7777777777777778,
              "#fb9f3a"
             ],
             [
              0.8888888888888888,
              "#fdca26"
             ],
             [
              1,
              "#f0f921"
             ]
            ],
            "type": "surface"
           }
          ],
          "table": [
           {
            "cells": {
             "fill": {
              "color": "#EBF0F8"
             },
             "line": {
              "color": "white"
             }
            },
            "header": {
             "fill": {
              "color": "#C8D4E3"
             },
             "line": {
              "color": "white"
             }
            },
            "type": "table"
           }
          ]
         },
         "layout": {
          "annotationdefaults": {
           "arrowcolor": "#2a3f5f",
           "arrowhead": 0,
           "arrowwidth": 1
          },
          "autotypenumbers": "strict",
          "coloraxis": {
           "colorbar": {
            "outlinewidth": 0,
            "ticks": ""
           }
          },
          "colorscale": {
           "diverging": [
            [
             0,
             "#8e0152"
            ],
            [
             0.1,
             "#c51b7d"
            ],
            [
             0.2,
             "#de77ae"
            ],
            [
             0.3,
             "#f1b6da"
            ],
            [
             0.4,
             "#fde0ef"
            ],
            [
             0.5,
             "#f7f7f7"
            ],
            [
             0.6,
             "#e6f5d0"
            ],
            [
             0.7,
             "#b8e186"
            ],
            [
             0.8,
             "#7fbc41"
            ],
            [
             0.9,
             "#4d9221"
            ],
            [
             1,
             "#276419"
            ]
           ],
           "sequential": [
            [
             0,
             "#0d0887"
            ],
            [
             0.1111111111111111,
             "#46039f"
            ],
            [
             0.2222222222222222,
             "#7201a8"
            ],
            [
             0.3333333333333333,
             "#9c179e"
            ],
            [
             0.4444444444444444,
             "#bd3786"
            ],
            [
             0.5555555555555556,
             "#d8576b"
            ],
            [
             0.6666666666666666,
             "#ed7953"
            ],
            [
             0.7777777777777778,
             "#fb9f3a"
            ],
            [
             0.8888888888888888,
             "#fdca26"
            ],
            [
             1,
             "#f0f921"
            ]
           ],
           "sequentialminus": [
            [
             0,
             "#0d0887"
            ],
            [
             0.1111111111111111,
             "#46039f"
            ],
            [
             0.2222222222222222,
             "#7201a8"
            ],
            [
             0.3333333333333333,
             "#9c179e"
            ],
            [
             0.4444444444444444,
             "#bd3786"
            ],
            [
             0.5555555555555556,
             "#d8576b"
            ],
            [
             0.6666666666666666,
             "#ed7953"
            ],
            [
             0.7777777777777778,
             "#fb9f3a"
            ],
            [
             0.8888888888888888,
             "#fdca26"
            ],
            [
             1,
             "#f0f921"
            ]
           ]
          },
          "colorway": [
           "#636efa",
           "#EF553B",
           "#00cc96",
           "#ab63fa",
           "#FFA15A",
           "#19d3f3",
           "#FF6692",
           "#B6E880",
           "#FF97FF",
           "#FECB52"
          ],
          "font": {
           "color": "#2a3f5f"
          },
          "geo": {
           "bgcolor": "white",
           "lakecolor": "white",
           "landcolor": "#E5ECF6",
           "showlakes": true,
           "showland": true,
           "subunitcolor": "white"
          },
          "hoverlabel": {
           "align": "left"
          },
          "hovermode": "closest",
          "mapbox": {
           "style": "light"
          },
          "paper_bgcolor": "white",
          "plot_bgcolor": "#E5ECF6",
          "polar": {
           "angularaxis": {
            "gridcolor": "white",
            "linecolor": "white",
            "ticks": ""
           },
           "bgcolor": "#E5ECF6",
           "radialaxis": {
            "gridcolor": "white",
            "linecolor": "white",
            "ticks": ""
           }
          },
          "scene": {
           "xaxis": {
            "backgroundcolor": "#E5ECF6",
            "gridcolor": "white",
            "gridwidth": 2,
            "linecolor": "white",
            "showbackground": true,
            "ticks": "",
            "zerolinecolor": "white"
           },
           "yaxis": {
            "backgroundcolor": "#E5ECF6",
            "gridcolor": "white",
            "gridwidth": 2,
            "linecolor": "white",
            "showbackground": true,
            "ticks": "",
            "zerolinecolor": "white"
           },
           "zaxis": {
            "backgroundcolor": "#E5ECF6",
            "gridcolor": "white",
            "gridwidth": 2,
            "linecolor": "white",
            "showbackground": true,
            "ticks": "",
            "zerolinecolor": "white"
           }
          },
          "shapedefaults": {
           "line": {
            "color": "#2a3f5f"
           }
          },
          "ternary": {
           "aaxis": {
            "gridcolor": "white",
            "linecolor": "white",
            "ticks": ""
           },
           "baxis": {
            "gridcolor": "white",
            "linecolor": "white",
            "ticks": ""
           },
           "bgcolor": "#E5ECF6",
           "caxis": {
            "gridcolor": "white",
            "linecolor": "white",
            "ticks": ""
           }
          },
          "title": {
           "x": 0.05
          },
          "xaxis": {
           "automargin": true,
           "gridcolor": "white",
           "linecolor": "white",
           "ticks": "",
           "title": {
            "standoff": 15
           },
           "zerolinecolor": "white",
           "zerolinewidth": 2
          },
          "yaxis": {
           "automargin": true,
           "gridcolor": "white",
           "linecolor": "white",
           "ticks": "",
           "title": {
            "standoff": 15
           },
           "zerolinecolor": "white",
           "zerolinewidth": 2
          }
         }
        },
        "xaxis": {
         "anchor": "y",
         "domain": [
          0,
          1
         ],
         "title": {
          "text": "period"
         }
        },
        "yaxis": {
         "anchor": "x",
         "domain": [
          0,
          1
         ],
         "title": {
          "text": "pct_retention"
         }
        }
       }
      }
     },
     "metadata": {},
     "output_type": "display_data"
    }
   ],
   "source": [
    "#plot the retention table\n",
    "fig_overall = px.line(cohort_table, x=\"period\", y=\"pct_retention\")\n",
    "fig_overall.show()"
   ]
  },
  {
   "cell_type": "markdown",
   "metadata": {},
   "source": [
    "### Breakdown the queries over there"
   ]
  },
  {
   "cell_type": "markdown",
   "metadata": {},
   "source": [
    "First of all, the query would detect the starting term of each legislator from the legislator terms table, then return the id of each one to group by in the following step. Of course, they have to be grouped by the id so we have the `GROUP BY 1`."
   ]
  },
  {
   "cell_type": "code",
   "execution_count": 6,
   "metadata": {},
   "outputs": [
    {
     "data": {
      "text/html": [
       "<div>\n",
       "<style scoped>\n",
       "    .dataframe tbody tr th:only-of-type {\n",
       "        vertical-align: middle;\n",
       "    }\n",
       "\n",
       "    .dataframe tbody tr th {\n",
       "        vertical-align: top;\n",
       "    }\n",
       "\n",
       "    .dataframe thead th {\n",
       "        text-align: right;\n",
       "    }\n",
       "</style>\n",
       "<table border=\"1\" class=\"dataframe\">\n",
       "  <thead>\n",
       "    <tr style=\"text-align: right;\">\n",
       "      <th></th>\n",
       "      <th>id_bioguide</th>\n",
       "      <th>first_term</th>\n",
       "    </tr>\n",
       "  </thead>\n",
       "  <tbody>\n",
       "    <tr>\n",
       "      <th>0</th>\n",
       "      <td>F000062</td>\n",
       "      <td>1992-11-10</td>\n",
       "    </tr>\n",
       "    <tr>\n",
       "      <th>1</th>\n",
       "      <td>T000464</td>\n",
       "      <td>2007-01-04</td>\n",
       "    </tr>\n",
       "    <tr>\n",
       "      <th>2</th>\n",
       "      <td>A000360</td>\n",
       "      <td>2003-01-07</td>\n",
       "    </tr>\n",
       "    <tr>\n",
       "      <th>3</th>\n",
       "      <td>G000359</td>\n",
       "      <td>1995-01-04</td>\n",
       "    </tr>\n",
       "    <tr>\n",
       "      <th>4</th>\n",
       "      <td>R000307</td>\n",
       "      <td>1981-01-05</td>\n",
       "    </tr>\n",
       "    <tr>\n",
       "      <th>...</th>\n",
       "      <td>...</td>\n",
       "      <td>...</td>\n",
       "    </tr>\n",
       "    <tr>\n",
       "      <th>12513</th>\n",
       "      <td>R000409</td>\n",
       "      <td>1989-01-03</td>\n",
       "    </tr>\n",
       "    <tr>\n",
       "      <th>12514</th>\n",
       "      <td>B000426</td>\n",
       "      <td>1951-01-03</td>\n",
       "    </tr>\n",
       "    <tr>\n",
       "      <th>12515</th>\n",
       "      <td>F000445</td>\n",
       "      <td>2001-06-26</td>\n",
       "    </tr>\n",
       "    <tr>\n",
       "      <th>12516</th>\n",
       "      <td>J000267</td>\n",
       "      <td>1958-04-19</td>\n",
       "    </tr>\n",
       "    <tr>\n",
       "      <th>12517</th>\n",
       "      <td>W000326</td>\n",
       "      <td>1983-01-03</td>\n",
       "    </tr>\n",
       "  </tbody>\n",
       "</table>\n",
       "<p>12518 rows × 2 columns</p>\n",
       "</div>"
      ],
      "text/plain": [
       "      id_bioguide  first_term\n",
       "0         F000062  1992-11-10\n",
       "1         T000464  2007-01-04\n",
       "2         A000360  2003-01-07\n",
       "3         G000359  1995-01-04\n",
       "4         R000307  1981-01-05\n",
       "...           ...         ...\n",
       "12513     R000409  1989-01-03\n",
       "12514     B000426  1951-01-03\n",
       "12515     F000445  2001-06-26\n",
       "12516     J000267  1958-04-19\n",
       "12517     W000326  1983-01-03\n",
       "\n",
       "[12518 rows x 2 columns]"
      ]
     },
     "execution_count": 6,
     "metadata": {},
     "output_type": "execute_result"
    }
   ],
   "source": [
    "%%sql\n",
    "SELECT \n",
    "    id_bioguide,\n",
    "    min(term_start) as first_term\n",
    "FROM legislators_terms\n",
    "GROUP BY 1;"
   ]
  },
  {
   "cell_type": "markdown",
   "metadata": {},
   "source": [
    "Next, the table above would be joined with legislator terms (I mean they will join the main table of legislators_terms, itself), to check period of each person, also the count the distinct id of legislators with that period in terms. The output would have a group by (again) by the period as first column (as period)."
   ]
  },
  {
   "cell_type": "code",
   "execution_count": 13,
   "metadata": {},
   "outputs": [
    {
     "data": {
      "text/html": [
       "<div>\n",
       "<style scoped>\n",
       "    .dataframe tbody tr th:only-of-type {\n",
       "        vertical-align: middle;\n",
       "    }\n",
       "\n",
       "    .dataframe tbody tr th {\n",
       "        vertical-align: top;\n",
       "    }\n",
       "\n",
       "    .dataframe thead th {\n",
       "        text-align: right;\n",
       "    }\n",
       "</style>\n",
       "<table border=\"1\" class=\"dataframe\">\n",
       "  <thead>\n",
       "    <tr style=\"text-align: right;\">\n",
       "      <th></th>\n",
       "      <th>period</th>\n",
       "      <th>cohort_retained</th>\n",
       "    </tr>\n",
       "  </thead>\n",
       "  <tbody>\n",
       "    <tr>\n",
       "      <th>0</th>\n",
       "      <td>26</td>\n",
       "      <td>178</td>\n",
       "    </tr>\n",
       "    <tr>\n",
       "      <th>1</th>\n",
       "      <td>11</td>\n",
       "      <td>918</td>\n",
       "    </tr>\n",
       "    <tr>\n",
       "      <th>2</th>\n",
       "      <td>20</td>\n",
       "      <td>398</td>\n",
       "    </tr>\n",
       "    <tr>\n",
       "      <th>3</th>\n",
       "      <td>34</td>\n",
       "      <td>66</td>\n",
       "    </tr>\n",
       "    <tr>\n",
       "      <th>4</th>\n",
       "      <td>21</td>\n",
       "      <td>280</td>\n",
       "    </tr>\n",
       "  </tbody>\n",
       "</table>\n",
       "</div>"
      ],
      "text/plain": [
       "   period  cohort_retained\n",
       "0      26              178\n",
       "1      11              918\n",
       "2      20              398\n",
       "3      34               66\n",
       "4      21              280"
      ]
     },
     "execution_count": 13,
     "metadata": {},
     "output_type": "execute_result"
    }
   ],
   "source": [
    "%%sql\n",
    "SELECT \n",
    "    date_part('year', AGE(b.term_start, a.first_term)) as period,\n",
    "    COUNT(DISTINCT a.id_bioguide) as cohort_retained\n",
    "FROM \n",
    "(\n",
    "    SELECT \n",
    "        id_bioguide,\n",
    "        min(term_start) as first_term\n",
    "    FROM legislators_terms\n",
    "    GROUP BY 1\n",
    ") a\n",
    "JOIN legislators_terms b ON a.id_bioguide = b.id_bioguide\n",
    "GROUP BY 1\n",
    "LIMIT 5;"
   ]
  },
  {
   "cell_type": "markdown",
   "metadata": {},
   "source": [
    "In the final layer, the code would simply select the max period from the column of the cohort retained (as the initial population = 100%), then use the cohort retained divided by that value to create the percentage of cohort in each period."
   ]
  },
  {
   "cell_type": "code",
   "execution_count": 86,
   "metadata": {},
   "outputs": [
    {
     "data": {
      "text/html": [
       "<div>\n",
       "<style scoped>\n",
       "    .dataframe tbody tr th:only-of-type {\n",
       "        vertical-align: middle;\n",
       "    }\n",
       "\n",
       "    .dataframe tbody tr th {\n",
       "        vertical-align: top;\n",
       "    }\n",
       "\n",
       "    .dataframe thead th {\n",
       "        text-align: right;\n",
       "    }\n",
       "</style>\n",
       "<table border=\"1\" class=\"dataframe\">\n",
       "  <thead>\n",
       "    <tr style=\"text-align: right;\">\n",
       "      <th></th>\n",
       "      <th>period</th>\n",
       "      <th>cohort_size</th>\n",
       "      <th>cohort_retained</th>\n",
       "      <th>pct_cohort</th>\n",
       "    </tr>\n",
       "  </thead>\n",
       "  <tbody>\n",
       "    <tr>\n",
       "      <th>0</th>\n",
       "      <td>0</td>\n",
       "      <td>12518</td>\n",
       "      <td>12518</td>\n",
       "      <td>1.000000</td>\n",
       "    </tr>\n",
       "    <tr>\n",
       "      <th>1</th>\n",
       "      <td>1</td>\n",
       "      <td>12518</td>\n",
       "      <td>3600</td>\n",
       "      <td>0.287586</td>\n",
       "    </tr>\n",
       "    <tr>\n",
       "      <th>2</th>\n",
       "      <td>2</td>\n",
       "      <td>12518</td>\n",
       "      <td>3619</td>\n",
       "      <td>0.289104</td>\n",
       "    </tr>\n",
       "    <tr>\n",
       "      <th>3</th>\n",
       "      <td>3</td>\n",
       "      <td>12518</td>\n",
       "      <td>1831</td>\n",
       "      <td>0.146269</td>\n",
       "    </tr>\n",
       "    <tr>\n",
       "      <th>4</th>\n",
       "      <td>4</td>\n",
       "      <td>12518</td>\n",
       "      <td>3210</td>\n",
       "      <td>0.256431</td>\n",
       "    </tr>\n",
       "  </tbody>\n",
       "</table>\n",
       "</div>"
      ],
      "text/plain": [
       "   period  cohort_size  cohort_retained  pct_cohort\n",
       "0       0        12518            12518    1.000000\n",
       "1       1        12518             3600    0.287586\n",
       "2       2        12518             3619    0.289104\n",
       "3       3        12518             1831    0.146269\n",
       "4       4        12518             3210    0.256431"
      ]
     },
     "execution_count": 86,
     "metadata": {},
     "output_type": "execute_result"
    }
   ],
   "source": [
    "%%sql\n",
    "SELECT\n",
    "    period,\n",
    "    first_value(cohort_retained) over (order by period) as cohort_size,\n",
    "    cohort_retained,\n",
    "    cohort_retained::DOUBLE / (first_value(cohort_retained) \n",
    "                                over (order by period))::DOUBLE as pct_cohort\n",
    "FROM \n",
    "(\n",
    "    SELECT \n",
    "        date_part('year', AGE(b.term_start, a.first_term)) as period,\n",
    "        COUNT(DISTINCT a.id_bioguide) as cohort_retained\n",
    "    FROM \n",
    "    (\n",
    "        SELECT \n",
    "            id_bioguide,\n",
    "            min(term_start) as first_term\n",
    "        FROM legislators_terms\n",
    "        GROUP BY 1\n",
    "    ) a\n",
    "    JOIN legislators_terms b ON a.id_bioguide = b.id_bioguide\n",
    "    GROUP BY 1   \n",
    ") aa\n",
    "LIMIT 5;"
   ]
  },
  {
   "cell_type": "markdown",
   "metadata": {},
   "source": [
    "See, I still hate the fact that somehow the dividing calculation is auto-rounded to 0 like this so I have to use pandas to divide these columns.\n",
    "\n",
    "And all of these database would be limited by 5 to better view of the notebook."
   ]
  },
  {
   "cell_type": "markdown",
   "metadata": {},
   "source": [
    "## More queries, more fun\n",
    "\n",
    "I will try to do some other queries from the original one, since the cohort might be cooler than I thought. \n",
    "\n",
    "Aight don't touch the time - date period, this might be another day for this due to the techstack right now is pretty weird to have another Date_DIM table (yeah I know).\n",
    "\n",
    "Let's see what can I do with grouping them by some kind of elements/columns in the database."
   ]
  },
  {
   "cell_type": "markdown",
   "metadata": {},
   "source": [
    "### Query the cohort by states"
   ]
  },
  {
   "cell_type": "code",
   "execution_count": 8,
   "metadata": {},
   "outputs": [
    {
     "name": "stdout",
     "output_type": "stream",
     "text": [
      "Returning data to local variable cohort_by_state\n"
     ]
    }
   ],
   "source": [
    "%%sql cohort_by_state <<\n",
    "SELECT\n",
    "    period,\n",
    "    state,\n",
    "    first_value(cohort_retained) over (partition by state \n",
    "                                        order by period) as cohort_size,\n",
    "    cohort_retained,\n",
    "    cohort_retained::DOUBLE / (first_value(cohort_retained) \n",
    "                                over (partition by state order by period))::DOUBLE\n",
    "                                 as pct_cohort\n",
    "FROM \n",
    "(\n",
    "    SELECT \n",
    "        date_part('year', AGE(b.term_start, a.first_term)) as period,\n",
    "        b.state,\n",
    "        COUNT(DISTINCT a.id_bioguide) as cohort_retained\n",
    "    FROM \n",
    "    (\n",
    "        SELECT \n",
    "            id_bioguide,\n",
    "            min(term_start) as first_term\n",
    "        FROM legislators_terms\n",
    "        GROUP BY 1\n",
    "    ) a\n",
    "    JOIN legislators_terms b ON a.id_bioguide = b.id_bioguide\n",
    "    GROUP BY 1, 2   \n",
    ") aa\n",
    ";"
   ]
  },
  {
   "cell_type": "code",
   "execution_count": 9,
   "metadata": {},
   "outputs": [
    {
     "data": {
      "application/vnd.plotly.v1+json": {
       "config": {
        "plotlyServerURL": "https://plot.ly"
       },
       "data": [
        {
         "hovertemplate": "state=NM<br>period=%{x}<br>pct_cohort=%{y}<extra></extra>",
         "legendgroup": "NM",
         "line": {
          "color": "#636efa",
          "dash": "solid"
         },
         "marker": {
          "symbol": "circle"
         },
         "mode": "lines",
         "name": "NM",
         "showlegend": true,
         "type": "scattergl",
         "x": [
          0,
          1,
          2,
          3,
          4,
          5,
          6,
          7,
          8,
          9,
          10,
          11,
          12,
          13,
          14,
          15,
          16,
          17,
          18,
          19,
          20,
          21,
          22,
          24,
          26,
          27,
          30
         ],
         "xaxis": "x",
         "y": [
          1,
          0.2711864406779661,
          0.2033898305084746,
          0.2033898305084746,
          0.2033898305084746,
          0.1016949152542373,
          0.2033898305084746,
          0.1694915254237288,
          0.11864406779661017,
          0.11864406779661017,
          0.05084745762711865,
          0.03389830508474576,
          0.0847457627118644,
          0.03389830508474576,
          0.0847457627118644,
          0.01694915254237288,
          0.1016949152542373,
          0.01694915254237288,
          0.0847457627118644,
          0.01694915254237288,
          0.03389830508474576,
          0.01694915254237288,
          0.01694915254237288,
          0.03389830508474576,
          0.01694915254237288,
          0.01694915254237288,
          0.01694915254237288
         ],
         "yaxis": "y"
        },
        {
         "hovertemplate": "state=WI<br>period=%{x}<br>pct_cohort=%{y}<extra></extra>",
         "legendgroup": "WI",
         "line": {
          "color": "#EF553B",
          "dash": "solid"
         },
         "marker": {
          "symbol": "circle"
         },
         "mode": "lines",
         "name": "WI",
         "showlegend": true,
         "type": "scattergl",
         "x": [
          0,
          1,
          2,
          3,
          4,
          5,
          6,
          7,
          8,
          9,
          10,
          11,
          12,
          13,
          14,
          15,
          16,
          17,
          18,
          19,
          20,
          21,
          22,
          23,
          24,
          25,
          26,
          27,
          28,
          29,
          30,
          31,
          32,
          33,
          34,
          35,
          36,
          37,
          38,
          39,
          40
         ],
         "xaxis": "x",
         "y": [
          1,
          0.2980769230769231,
          0.3269230769230769,
          0.16826923076923078,
          0.30288461538461536,
          0.16346153846153846,
          0.22115384615384615,
          0.09615384615384616,
          0.16346153846153846,
          0.08173076923076923,
          0.12980769230769232,
          0.08653846153846154,
          0.12980769230769232,
          0.08653846153846154,
          0.0625,
          0.04807692307692308,
          0.07692307692307693,
          0.07211538461538461,
          0.04326923076923077,
          0.052884615384615384,
          0.057692307692307696,
          0.04807692307692308,
          0.03365384615384615,
          0.04326923076923077,
          0.028846153846153848,
          0.038461538461538464,
          0.03365384615384615,
          0.02403846153846154,
          0.02403846153846154,
          0.019230769230769232,
          0.014423076923076924,
          0.014423076923076924,
          0.014423076923076924,
          0.009615384615384616,
          0.014423076923076924,
          0.009615384615384616,
          0.004807692307692308,
          0.009615384615384616,
          0.009615384615384616,
          0.004807692307692308,
          0.004807692307692308
         ],
         "yaxis": "y"
        },
        {
         "hovertemplate": "state=AL<br>period=%{x}<br>pct_cohort=%{y}<extra></extra>",
         "legendgroup": "AL",
         "line": {
          "color": "#00cc96",
          "dash": "solid"
         },
         "marker": {
          "symbol": "circle"
         },
         "mode": "lines",
         "name": "AL",
         "showlegend": true,
         "type": "scattergl",
         "x": [
          0,
          1,
          2,
          3,
          4,
          5,
          6,
          7,
          8,
          9,
          10,
          11,
          12,
          13,
          14,
          15,
          16,
          17,
          18,
          19,
          20,
          21,
          22,
          23,
          24,
          25,
          26,
          27,
          28,
          29,
          30,
          31,
          32,
          33,
          35,
          36,
          37,
          39
         ],
         "xaxis": "x",
         "y": [
          1,
          0.330188679245283,
          0.2688679245283019,
          0.1650943396226415,
          0.29245283018867924,
          0.1509433962264151,
          0.25471698113207547,
          0.18867924528301888,
          0.13679245283018868,
          0.08018867924528301,
          0.1650943396226415,
          0.12735849056603774,
          0.11320754716981132,
          0.10377358490566038,
          0.08962264150943396,
          0.05660377358490566,
          0.08962264150943396,
          0.08018867924528301,
          0.04245283018867924,
          0.06132075471698113,
          0.02358490566037736,
          0.0330188679245283,
          0.02358490566037736,
          0.02358490566037736,
          0.02358490566037736,
          0.0330188679245283,
          0.018867924528301886,
          0.014150943396226415,
          0.009433962264150943,
          0.0047169811320754715,
          0.0047169811320754715,
          0.009433962264150943,
          0.0047169811320754715,
          0.0047169811320754715,
          0.0047169811320754715,
          0.0047169811320754715,
          0.014150943396226415,
          0.0047169811320754715
         ],
         "yaxis": "y"
        },
        {
         "hovertemplate": "state=PA<br>period=%{x}<br>pct_cohort=%{y}<extra></extra>",
         "legendgroup": "PA",
         "line": {
          "color": "#ab63fa",
          "dash": "solid"
         },
         "marker": {
          "symbol": "circle"
         },
         "mode": "lines",
         "name": "PA",
         "showlegend": true,
         "type": "scattergl",
         "x": [
          0,
          1,
          2,
          3,
          4,
          5,
          6,
          7,
          8,
          9,
          10,
          11,
          12,
          13,
          14,
          15,
          16,
          17,
          18,
          19,
          20,
          21,
          22,
          23,
          24,
          25,
          26,
          27,
          28,
          29,
          30,
          31,
          32,
          33,
          34,
          36,
          41,
          44,
          45,
          48,
          50
         ],
         "xaxis": "x",
         "y": [
          1,
          0.29209302325581393,
          0.2855813953488372,
          0.10790697674418605,
          0.22697674418604652,
          0.10325581395348837,
          0.1330232558139535,
          0.06976744186046512,
          0.10604651162790697,
          0.052093023255813956,
          0.08558139534883721,
          0.044651162790697675,
          0.07627906976744186,
          0.044651162790697675,
          0.05674418604651163,
          0.025116279069767444,
          0.06046511627906977,
          0.03348837209302326,
          0.03813953488372093,
          0.01581395348837209,
          0.026046511627906978,
          0.009302325581395349,
          0.024186046511627906,
          0.014883720930232559,
          0.01581395348837209,
          0.008372093023255815,
          0.014883720930232559,
          0.0037209302325581397,
          0.013023255813953489,
          0.005581395348837209,
          0.0074418604651162795,
          0.0009302325581395349,
          0.004651162790697674,
          0.0009302325581395349,
          0.0037209302325581397,
          0.0009302325581395349,
          0.0009302325581395349,
          0.0009302325581395349,
          0.0009302325581395349,
          0.0009302325581395349,
          0.0009302325581395349
         ],
         "yaxis": "y"
        },
        {
         "hovertemplate": "state=VI<br>period=%{x}<br>pct_cohort=%{y}<extra></extra>",
         "legendgroup": "VI",
         "line": {
          "color": "#FFA15A",
          "dash": "solid"
         },
         "marker": {
          "symbol": "circle"
         },
         "mode": "lines",
         "name": "VI",
         "showlegend": true,
         "type": "scattergl",
         "x": [
          0,
          1,
          2,
          3,
          4,
          6,
          7,
          8,
          9,
          10,
          11,
          12,
          13,
          14,
          15,
          16,
          18,
          20
         ],
         "xaxis": "x",
         "y": [
          1,
          0.4,
          0.2,
          0.4,
          0.2,
          0.2,
          0.2,
          0.2,
          0.2,
          0.2,
          0.2,
          0.2,
          0.2,
          0.2,
          0.2,
          0.2,
          0.2,
          0.2
         ],
         "yaxis": "y"
        },
        {
         "hovertemplate": "state=PR<br>period=%{x}<br>pct_cohort=%{y}<extra></extra>",
         "legendgroup": "PR",
         "line": {
          "color": "#19d3f3",
          "dash": "solid"
         },
         "marker": {
          "symbol": "circle"
         },
         "mode": "lines",
         "name": "PR",
         "showlegend": true,
         "type": "scattergl",
         "x": [
          0,
          1,
          2,
          3,
          4,
          5,
          6,
          8,
          10,
          12,
          14,
          16,
          18
         ],
         "xaxis": "x",
         "y": [
          1,
          0.15,
          0.55,
          0.15,
          0.35,
          0.1,
          0.15,
          0.1,
          0.1,
          0.1,
          0.1,
          0.05,
          0.05
         ],
         "yaxis": "y"
        },
        {
         "hovertemplate": "state=SD<br>period=%{x}<br>pct_cohort=%{y}<extra></extra>",
         "legendgroup": "SD",
         "line": {
          "color": "#FF6692",
          "dash": "solid"
         },
         "marker": {
          "symbol": "circle"
         },
         "mode": "lines",
         "name": "SD",
         "showlegend": true,
         "type": "scattergl",
         "x": [
          0,
          1,
          2,
          3,
          4,
          5,
          6,
          7,
          8,
          9,
          10,
          11,
          12,
          13,
          14,
          15,
          16,
          18,
          19,
          22,
          28
         ],
         "xaxis": "x",
         "y": [
          1,
          0.3076923076923077,
          0.19230769230769232,
          0.21153846153846154,
          0.23076923076923078,
          0.11538461538461539,
          0.3076923076923077,
          0.1346153846153846,
          0.11538461538461539,
          0.11538461538461539,
          0.09615384615384616,
          0.09615384615384616,
          0.07692307692307693,
          0.11538461538461539,
          0.019230769230769232,
          0.019230769230769232,
          0.07692307692307693,
          0.038461538461538464,
          0.057692307692307696,
          0.038461538461538464,
          0.019230769230769232
         ],
         "yaxis": "y"
        },
        {
         "hovertemplate": "state=NH<br>period=%{x}<br>pct_cohort=%{y}<extra></extra>",
         "legendgroup": "NH",
         "line": {
          "color": "#B6E880",
          "dash": "solid"
         },
         "marker": {
          "symbol": "circle"
         },
         "mode": "lines",
         "name": "NH",
         "showlegend": true,
         "type": "scattergl",
         "x": [
          0,
          1,
          2,
          3,
          4,
          5,
          6,
          7,
          8,
          9,
          10,
          11,
          12,
          13,
          14,
          15,
          16,
          17,
          18,
          20,
          21,
          22,
          23,
          28,
          29
         ],
         "xaxis": "x",
         "y": [
          1,
          0.24193548387096775,
          0.26344086021505375,
          0.0967741935483871,
          0.1827956989247312,
          0.08064516129032258,
          0.12365591397849462,
          0.03763440860215054,
          0.03225806451612903,
          0.03763440860215054,
          0.053763440860215055,
          0.04838709677419355,
          0.03225806451612903,
          0.021505376344086023,
          0.005376344086021506,
          0.016129032258064516,
          0.05913978494623656,
          0.021505376344086023,
          0.010752688172043012,
          0.005376344086021506,
          0.005376344086021506,
          0.010752688172043012,
          0.016129032258064516,
          0.005376344086021506,
          0.010752688172043012
         ],
         "yaxis": "y"
        },
        {
         "hovertemplate": "state=NC<br>period=%{x}<br>pct_cohort=%{y}<extra></extra>",
         "legendgroup": "NC",
         "line": {
          "color": "#FF97FF",
          "dash": "solid"
         },
         "marker": {
          "symbol": "circle"
         },
         "mode": "lines",
         "name": "NC",
         "showlegend": true,
         "type": "scattergl",
         "x": [
          0,
          1,
          2,
          3,
          4,
          5,
          6,
          7,
          8,
          9,
          10,
          11,
          12,
          13,
          14,
          15,
          16,
          17,
          18,
          19,
          20,
          21,
          22,
          23,
          24,
          25,
          26,
          27,
          28,
          29,
          30,
          31,
          33,
          34,
          35,
          37,
          38,
          39
         ],
         "xaxis": "x",
         "y": [
          1,
          0.25268817204301075,
          0.34946236559139787,
          0.12634408602150538,
          0.29301075268817206,
          0.11021505376344086,
          0.1989247311827957,
          0.10215053763440861,
          0.12365591397849462,
          0.07526881720430108,
          0.11559139784946236,
          0.08602150537634409,
          0.08602150537634409,
          0.07258064516129033,
          0.07258064516129033,
          0.03763440860215054,
          0.06989247311827956,
          0.06451612903225806,
          0.03763440860215054,
          0.0456989247311828,
          0.03494623655913978,
          0.03494623655913978,
          0.03225806451612903,
          0.026881720430107527,
          0.02956989247311828,
          0.02956989247311828,
          0.013440860215053764,
          0.016129032258064516,
          0.016129032258064516,
          0.008064516129032258,
          0.005376344086021506,
          0.016129032258064516,
          0.002688172043010753,
          0.005376344086021506,
          0.002688172043010753,
          0.002688172043010753,
          0.002688172043010753,
          0.002688172043010753
         ],
         "yaxis": "y"
        },
        {
         "hovertemplate": "state=MS<br>period=%{x}<br>pct_cohort=%{y}<extra></extra>",
         "legendgroup": "MS",
         "line": {
          "color": "#FECB52",
          "dash": "solid"
         },
         "marker": {
          "symbol": "circle"
         },
         "mode": "lines",
         "name": "MS",
         "showlegend": true,
         "type": "scattergl",
         "x": [
          0,
          1,
          2,
          3,
          4,
          5,
          6,
          7,
          8,
          9,
          10,
          11,
          12,
          13,
          14,
          15,
          16,
          17,
          18,
          19,
          20,
          21,
          22,
          23,
          24,
          25,
          26,
          27,
          28,
          29,
          30,
          31,
          32,
          33,
          34,
          35,
          36,
          37,
          38,
          40,
          42,
          44,
          46,
          48,
          50,
          52
         ],
         "xaxis": "x",
         "y": [
          1,
          0.30625,
          0.3,
          0.14375,
          0.26875,
          0.13125,
          0.2375,
          0.1,
          0.15625,
          0.09375,
          0.1125,
          0.0875,
          0.10625,
          0.08125,
          0.0625,
          0.0625,
          0.05625,
          0.09375,
          0.05,
          0.05625,
          0.05625,
          0.04375,
          0.03125,
          0.0625,
          0.025,
          0.0625,
          0.00625,
          0.01875,
          0.025,
          0.025,
          0.01875,
          0.0125,
          0.0125,
          0.00625,
          0.0125,
          0.00625,
          0.01875,
          0.00625,
          0.00625,
          0.00625,
          0.0125,
          0.00625,
          0.00625,
          0.00625,
          0.00625,
          0.00625
         ],
         "yaxis": "y"
        },
        {
         "hovertemplate": "state=NE<br>period=%{x}<br>pct_cohort=%{y}<extra></extra>",
         "legendgroup": "NE",
         "line": {
          "color": "#636efa",
          "dash": "solid"
         },
         "marker": {
          "symbol": "circle"
         },
         "mode": "lines",
         "name": "NE",
         "showlegend": true,
         "type": "scattergl",
         "x": [
          0,
          1,
          2,
          3,
          4,
          5,
          6,
          7,
          8,
          9,
          10,
          11,
          12,
          13,
          14,
          15,
          16,
          17,
          18,
          19,
          21,
          22,
          23,
          24,
          25,
          26,
          28,
          30,
          31,
          33,
          34
         ],
         "xaxis": "x",
         "y": [
          1,
          0.21374045801526717,
          0.3282442748091603,
          0.08396946564885496,
          0.2595419847328244,
          0.19083969465648856,
          0.16030534351145037,
          0.06870229007633588,
          0.07633587786259542,
          0.061068702290076333,
          0.04580152671755725,
          0.061068702290076333,
          0.05343511450381679,
          0.05343511450381679,
          0.022900763358778626,
          0.030534351145038167,
          0.015267175572519083,
          0.015267175572519083,
          0.015267175572519083,
          0.007633587786259542,
          0.007633587786259542,
          0.030534351145038167,
          0.015267175572519083,
          0.007633587786259542,
          0.007633587786259542,
          0.007633587786259542,
          0.015267175572519083,
          0.007633587786259542,
          0.007633587786259542,
          0.007633587786259542,
          0.007633587786259542
         ],
         "yaxis": "y"
        },
        {
         "hovertemplate": "state=ND<br>period=%{x}<br>pct_cohort=%{y}<extra></extra>",
         "legendgroup": "ND",
         "line": {
          "color": "#EF553B",
          "dash": "solid"
         },
         "marker": {
          "symbol": "circle"
         },
         "mode": "lines",
         "name": "ND",
         "showlegend": true,
         "type": "scattergl",
         "x": [
          0,
          1,
          2,
          3,
          4,
          5,
          6,
          7,
          8,
          9,
          10,
          11,
          12,
          13,
          14,
          15,
          16,
          17,
          18,
          19,
          20,
          22,
          23,
          29
         ],
         "xaxis": "x",
         "y": [
          1,
          0.2553191489361702,
          0.2553191489361702,
          0.14893617021276595,
          0.2553191489361702,
          0.23404255319148937,
          0.23404255319148937,
          0.10638297872340426,
          0.1276595744680851,
          0.0851063829787234,
          0.0851063829787234,
          0.1276595744680851,
          0.10638297872340426,
          0.14893617021276595,
          0.02127659574468085,
          0.02127659574468085,
          0.06382978723404255,
          0.10638297872340426,
          0.06382978723404255,
          0.02127659574468085,
          0.02127659574468085,
          0.02127659574468085,
          0.06382978723404255,
          0.0425531914893617
         ],
         "yaxis": "y"
        },
        {
         "hovertemplate": "state=CT<br>period=%{x}<br>pct_cohort=%{y}<extra></extra>",
         "legendgroup": "CT",
         "line": {
          "color": "#00cc96",
          "dash": "solid"
         },
         "marker": {
          "symbol": "circle"
         },
         "mode": "lines",
         "name": "CT",
         "showlegend": true,
         "type": "scattergl",
         "x": [
          0,
          1,
          2,
          3,
          4,
          5,
          6,
          7,
          8,
          9,
          10,
          11,
          12,
          13,
          14,
          15,
          16,
          17,
          18,
          19,
          20,
          21,
          22,
          23,
          24,
          26,
          28,
          29
         ],
         "xaxis": "x",
         "y": [
          1,
          0.3157894736842105,
          0.2591093117408907,
          0.13765182186234817,
          0.19838056680161945,
          0.12955465587044535,
          0.13765182186234817,
          0.10931174089068826,
          0.09716599190283401,
          0.06072874493927125,
          0.0931174089068826,
          0.0728744939271255,
          0.06882591093117409,
          0.0728744939271255,
          0.032388663967611336,
          0.024291497975708502,
          0.044534412955465584,
          0.02834008097165992,
          0.03643724696356275,
          0.012145748987854251,
          0.024291497975708502,
          0.004048582995951417,
          0.016194331983805668,
          0.004048582995951417,
          0.008097165991902834,
          0.008097165991902834,
          0.008097165991902834,
          0.004048582995951417
         ],
         "yaxis": "y"
        },
        {
         "hovertemplate": "state=NJ<br>period=%{x}<br>pct_cohort=%{y}<extra></extra>",
         "legendgroup": "NJ",
         "line": {
          "color": "#ab63fa",
          "dash": "solid"
         },
         "marker": {
          "symbol": "circle"
         },
         "mode": "lines",
         "name": "NJ",
         "showlegend": true,
         "type": "scattergl",
         "x": [
          0,
          1,
          2,
          3,
          4,
          5,
          6,
          7,
          8,
          9,
          10,
          11,
          12,
          13,
          14,
          15,
          16,
          17,
          18,
          19,
          20,
          21,
          22,
          23,
          24,
          25,
          26,
          27,
          28,
          29,
          30,
          31,
          32,
          34,
          35,
          36,
          37,
          38
         ],
         "xaxis": "x",
         "y": [
          1,
          0.28418230563002683,
          0.26005361930294907,
          0.14745308310991956,
          0.21983914209115282,
          0.12332439678284182,
          0.16353887399463807,
          0.09651474530831099,
          0.1126005361930295,
          0.08579088471849866,
          0.10455764075067024,
          0.06166219839142091,
          0.10991957104557641,
          0.07238605898123325,
          0.064343163538874,
          0.02680965147453083,
          0.07506702412868632,
          0.05630026809651475,
          0.045576407506702415,
          0.032171581769437,
          0.045576407506702415,
          0.021447721179624665,
          0.032171581769437,
          0.013404825737265416,
          0.0160857908847185,
          0.0160857908847185,
          0.005361930294906166,
          0.002680965147453083,
          0.010723860589812333,
          0.005361930294906166,
          0.005361930294906166,
          0.005361930294906166,
          0.002680965147453083,
          0.005361930294906166,
          0.002680965147453083,
          0.002680965147453083,
          0.002680965147453083,
          0.002680965147453083
         ],
         "yaxis": "y"
        },
        {
         "hovertemplate": "state=KY<br>period=%{x}<br>pct_cohort=%{y}<extra></extra>",
         "legendgroup": "KY",
         "line": {
          "color": "#FFA15A",
          "dash": "solid"
         },
         "marker": {
          "symbol": "circle"
         },
         "mode": "lines",
         "name": "KY",
         "showlegend": true,
         "type": "scattergl",
         "x": [
          0,
          1,
          2,
          3,
          4,
          5,
          6,
          7,
          8,
          9,
          10,
          11,
          12,
          13,
          14,
          15,
          16,
          17,
          18,
          19,
          20,
          21,
          22,
          23,
          24,
          25,
          26,
          27,
          28,
          29,
          30,
          31,
          32,
          33,
          34,
          35,
          36,
          37,
          38,
          40,
          41,
          43
         ],
         "xaxis": "x",
         "y": [
          1,
          0.2724867724867725,
          0.2751322751322751,
          0.12433862433862433,
          0.22486772486772486,
          0.12169312169312169,
          0.1349206349206349,
          0.08465608465608465,
          0.10846560846560846,
          0.07407407407407407,
          0.07671957671957672,
          0.05555555555555555,
          0.06084656084656084,
          0.05291005291005291,
          0.03439153439153439,
          0.026455026455026454,
          0.042328042328042326,
          0.03439153439153439,
          0.037037037037037035,
          0.023809523809523808,
          0.018518518518518517,
          0.018518518518518517,
          0.015873015873015872,
          0.013227513227513227,
          0.015873015873015872,
          0.015873015873015872,
          0.013227513227513227,
          0.007936507936507936,
          0.015873015873015872,
          0.005291005291005291,
          0.010582010582010581,
          0.007936507936507936,
          0.007936507936507936,
          0.0026455026455026454,
          0.007936507936507936,
          0.0026455026455026454,
          0.0026455026455026454,
          0.005291005291005291,
          0.005291005291005291,
          0.0026455026455026454,
          0.0026455026455026454,
          0.005291005291005291
         ],
         "yaxis": "y"
        },
        {
         "hovertemplate": "state=DK<br>period=%{x}<br>pct_cohort=%{y}<extra></extra>",
         "legendgroup": "DK",
         "line": {
          "color": "#19d3f3",
          "dash": "solid"
         },
         "marker": {
          "symbol": "circle"
         },
         "mode": "lines",
         "name": "DK",
         "showlegend": true,
         "type": "scattergl",
         "x": [
          0,
          1,
          2
         ],
         "xaxis": "x",
         "y": [
          1,
          0.2727272727272727,
          0.18181818181818182
         ],
         "yaxis": "y"
        },
        {
         "hovertemplate": "state=WV<br>period=%{x}<br>pct_cohort=%{y}<extra></extra>",
         "legendgroup": "WV",
         "line": {
          "color": "#FF6692",
          "dash": "solid"
         },
         "marker": {
          "symbol": "circle"
         },
         "mode": "lines",
         "name": "WV",
         "showlegend": true,
         "type": "scattergl",
         "x": [
          0,
          1,
          2,
          3,
          4,
          5,
          6,
          7,
          8,
          9,
          10,
          11,
          12,
          13,
          14,
          15,
          16,
          17,
          18,
          20,
          22,
          23,
          24,
          25,
          26,
          27,
          28,
          29,
          30,
          31,
          32,
          33,
          34,
          35,
          36,
          39,
          41,
          42,
          45,
          48,
          54
         ],
         "xaxis": "x",
         "y": [
          1,
          0.24793388429752067,
          0.3140495867768595,
          0.1487603305785124,
          0.256198347107438,
          0.11570247933884298,
          0.21487603305785125,
          0.09917355371900827,
          0.10743801652892562,
          0.06611570247933884,
          0.09090909090909091,
          0.05785123966942149,
          0.12396694214876033,
          0.05785123966942149,
          0.04132231404958678,
          0.03305785123966942,
          0.06611570247933884,
          0.04132231404958678,
          0.05785123966942149,
          0.04132231404958678,
          0.049586776859504134,
          0.01652892561983471,
          0.04132231404958678,
          0.008264462809917356,
          0.04132231404958678,
          0.01652892561983471,
          0.03305785123966942,
          0.008264462809917356,
          0.024793388429752067,
          0.008264462809917356,
          0.008264462809917356,
          0.008264462809917356,
          0.01652892561983471,
          0.01652892561983471,
          0.008264462809917356,
          0.008264462809917356,
          0.008264462809917356,
          0.008264462809917356,
          0.008264462809917356,
          0.008264462809917356,
          0.008264462809917356
         ],
         "yaxis": "y"
        },
        {
         "hovertemplate": "state=GA<br>period=%{x}<br>pct_cohort=%{y}<extra></extra>",
         "legendgroup": "GA",
         "line": {
          "color": "#B6E880",
          "dash": "solid"
         },
         "marker": {
          "symbol": "circle"
         },
         "mode": "lines",
         "name": "GA",
         "showlegend": true,
         "type": "scattergl",
         "x": [
          0,
          1,
          2,
          3,
          4,
          5,
          6,
          7,
          8,
          9,
          10,
          11,
          12,
          13,
          14,
          15,
          16,
          17,
          18,
          19,
          20,
          21,
          22,
          23,
          24,
          25,
          27,
          28,
          29,
          30,
          31,
          32,
          33,
          35,
          36,
          37,
          38,
          39,
          41,
          43,
          45,
          47,
          49
         ],
         "xaxis": "x",
         "y": [
          1,
          0.31901840490797545,
          0.3067484662576687,
          0.15030674846625766,
          0.3159509202453988,
          0.15030674846625766,
          0.21779141104294478,
          0.12269938650306748,
          0.1411042944785276,
          0.05521472392638037,
          0.15950920245398773,
          0.10122699386503067,
          0.09815950920245399,
          0.07668711656441718,
          0.05828220858895705,
          0.046012269938650305,
          0.049079754601226995,
          0.046012269938650305,
          0.03680981595092025,
          0.02147239263803681,
          0.024539877300613498,
          0.02147239263803681,
          0.024539877300613498,
          0.027607361963190184,
          0.009202453987730062,
          0.018404907975460124,
          0.006134969325153374,
          0.006134969325153374,
          0.018404907975460124,
          0.003067484662576687,
          0.006134969325153374,
          0.006134969325153374,
          0.012269938650306749,
          0.009202453987730062,
          0.003067484662576687,
          0.003067484662576687,
          0.003067484662576687,
          0.003067484662576687,
          0.003067484662576687,
          0.003067484662576687,
          0.003067484662576687,
          0.003067484662576687,
          0.003067484662576687
         ],
         "yaxis": "y"
        },
        {
         "hovertemplate": "state=RI<br>period=%{x}<br>pct_cohort=%{y}<extra></extra>",
         "legendgroup": "RI",
         "line": {
          "color": "#FF97FF",
          "dash": "solid"
         },
         "marker": {
          "symbol": "circle"
         },
         "mode": "lines",
         "name": "RI",
         "showlegend": true,
         "type": "scattergl",
         "x": [
          0,
          1,
          2,
          3,
          4,
          5,
          6,
          7,
          8,
          9,
          10,
          11,
          12,
          13,
          14,
          15,
          16,
          17,
          18,
          19,
          20,
          21,
          22,
          23,
          24,
          26,
          27,
          30
         ],
         "xaxis": "x",
         "y": [
          1,
          0.27927927927927926,
          0.22522522522522523,
          0.11711711711711711,
          0.23423423423423423,
          0.13513513513513514,
          0.2072072072072072,
          0.0990990990990991,
          0.0990990990990991,
          0.018018018018018018,
          0.07207207207207207,
          0.04504504504504504,
          0.0990990990990991,
          0.02702702702702703,
          0.07207207207207207,
          0.036036036036036036,
          0.04504504504504504,
          0.02702702702702703,
          0.07207207207207207,
          0.018018018018018018,
          0.036036036036036036,
          0.009009009009009009,
          0.036036036036036036,
          0.009009009009009009,
          0.036036036036036036,
          0.02702702702702703,
          0.009009009009009009,
          0.009009009009009009
         ],
         "yaxis": "y"
        },
        {
         "hovertemplate": "state=MD<br>period=%{x}<br>pct_cohort=%{y}<extra></extra>",
         "legendgroup": "MD",
         "line": {
          "color": "#FECB52",
          "dash": "solid"
         },
         "marker": {
          "symbol": "circle"
         },
         "mode": "lines",
         "name": "MD",
         "showlegend": true,
         "type": "scattergl",
         "x": [
          0,
          1,
          2,
          3,
          4,
          5,
          6,
          7,
          8,
          9,
          10,
          11,
          12,
          13,
          14,
          15,
          16,
          17,
          18,
          19,
          20,
          21,
          22,
          23,
          24,
          25,
          26,
          28,
          29,
          30,
          31,
          32,
          33,
          34,
          35,
          36,
          37,
          38
         ],
         "xaxis": "x",
         "y": [
          1,
          0.28115015974440893,
          0.268370607028754,
          0.12460063897763578,
          0.22044728434504793,
          0.12140575079872204,
          0.14696485623003194,
          0.10543130990415335,
          0.10223642172523961,
          0.06070287539936102,
          0.07028753993610223,
          0.04792332268370607,
          0.06389776357827476,
          0.054313099041533544,
          0.04153354632587859,
          0.022364217252396165,
          0.051118210862619806,
          0.01597444089456869,
          0.02875399361022364,
          0.025559105431309903,
          0.022364217252396165,
          0.009584664536741214,
          0.02875399361022364,
          0.01597444089456869,
          0.012779552715654952,
          0.012779552715654952,
          0.006389776357827476,
          0.01597444089456869,
          0.009584664536741214,
          0.006389776357827476,
          0.009584664536741214,
          0.006389776357827476,
          0.009584664536741214,
          0.012779552715654952,
          0.006389776357827476,
          0.006389776357827476,
          0.003194888178913738,
          0.006389776357827476
         ],
         "yaxis": "y"
        },
        {
         "hovertemplate": "state=DC<br>period=%{x}<br>pct_cohort=%{y}<extra></extra>",
         "legendgroup": "DC",
         "line": {
          "color": "#636efa",
          "dash": "solid"
         },
         "marker": {
          "symbol": "circle"
         },
         "mode": "lines",
         "name": "DC",
         "showlegend": true,
         "type": "scattergl",
         "x": [
          0,
          1,
          2,
          3,
          4,
          5,
          6,
          7,
          8,
          9,
          10,
          11,
          12,
          13,
          14,
          15,
          16,
          17,
          18,
          20,
          22,
          24,
          26,
          28
         ],
         "xaxis": "x",
         "y": [
          1,
          0.3333333333333333,
          0.6666666666666666,
          0.3333333333333333,
          0.3333333333333333,
          0.3333333333333333,
          0.3333333333333333,
          0.3333333333333333,
          0.3333333333333333,
          0.3333333333333333,
          0.3333333333333333,
          0.3333333333333333,
          0.3333333333333333,
          0.3333333333333333,
          0.3333333333333333,
          0.3333333333333333,
          0.3333333333333333,
          0.3333333333333333,
          0.3333333333333333,
          0.3333333333333333,
          0.3333333333333333,
          0.3333333333333333,
          0.3333333333333333,
          0.3333333333333333
         ],
         "yaxis": "y"
        },
        {
         "hovertemplate": "state=MI<br>period=%{x}<br>pct_cohort=%{y}<extra></extra>",
         "legendgroup": "MI",
         "line": {
          "color": "#EF553B",
          "dash": "solid"
         },
         "marker": {
          "symbol": "circle"
         },
         "mode": "lines",
         "name": "MI",
         "showlegend": true,
         "type": "scattergl",
         "x": [
          0,
          1,
          2,
          3,
          4,
          5,
          6,
          7,
          8,
          9,
          10,
          11,
          12,
          13,
          14,
          15,
          16,
          17,
          18,
          19,
          20,
          21,
          22,
          23,
          24,
          25,
          26,
          27,
          28,
          29,
          30,
          31,
          32,
          33,
          34,
          35,
          37,
          38,
          39,
          40,
          42,
          44,
          45,
          46,
          47,
          48,
          49,
          50,
          51,
          54,
          56,
          57
         ],
         "xaxis": "x",
         "y": [
          1,
          0.3086816720257235,
          0.2765273311897106,
          0.1639871382636656,
          0.3022508038585209,
          0.18971061093247588,
          0.20257234726688103,
          0.13504823151125403,
          0.1639871382636656,
          0.10610932475884244,
          0.14790996784565916,
          0.09003215434083602,
          0.13183279742765272,
          0.08360128617363344,
          0.0707395498392283,
          0.04501607717041801,
          0.11254019292604502,
          0.05787781350482315,
          0.05466237942122187,
          0.04180064308681672,
          0.05466237942122187,
          0.04501607717041801,
          0.04823151125401929,
          0.03536977491961415,
          0.03215434083601286,
          0.022508038585209004,
          0.022508038585209004,
          0.00964630225080386,
          0.01929260450160772,
          0.01607717041800643,
          0.012861736334405145,
          0.006430868167202572,
          0.01929260450160772,
          0.006430868167202572,
          0.012861736334405145,
          0.00964630225080386,
          0.003215434083601286,
          0.006430868167202572,
          0.003215434083601286,
          0.003215434083601286,
          0.006430868167202572,
          0.006430868167202572,
          0.003215434083601286,
          0.003215434083601286,
          0.003215434083601286,
          0.003215434083601286,
          0.003215434083601286,
          0.003215434083601286,
          0.006430868167202572,
          0.003215434083601286,
          0.003215434083601286,
          0.003215434083601286
         ],
         "yaxis": "y"
        },
        {
         "hovertemplate": "state=CA<br>period=%{x}<br>pct_cohort=%{y}<extra></extra>",
         "legendgroup": "CA",
         "line": {
          "color": "#00cc96",
          "dash": "solid"
         },
         "marker": {
          "symbol": "circle"
         },
         "mode": "lines",
         "name": "CA",
         "showlegend": true,
         "type": "scattergl",
         "x": [
          0,
          1,
          2,
          3,
          4,
          5,
          6,
          7,
          8,
          9,
          10,
          11,
          12,
          13,
          14,
          15,
          16,
          17,
          18,
          19,
          20,
          21,
          22,
          23,
          24,
          25,
          26,
          27,
          28,
          29,
          30,
          31,
          32,
          33,
          34,
          35,
          36,
          37,
          38
         ],
         "xaxis": "x",
         "y": [
          1,
          0.3783132530120482,
          0.344578313253012,
          0.22650602409638554,
          0.3686746987951807,
          0.1927710843373494,
          0.3132530120481928,
          0.21204819277108433,
          0.22409638554216868,
          0.1783132530120482,
          0.20722891566265061,
          0.12048192771084337,
          0.19036144578313252,
          0.14698795180722893,
          0.10602409638554217,
          0.04819277108433735,
          0.1686746987951807,
          0.0819277108433735,
          0.09156626506024096,
          0.0819277108433735,
          0.05060240963855422,
          0.043373493975903614,
          0.05542168674698795,
          0.06506024096385542,
          0.021686746987951807,
          0.04578313253012048,
          0.021686746987951807,
          0.01927710843373494,
          0.021686746987951807,
          0.024096385542168676,
          0.004819277108433735,
          0.014457831325301205,
          0.0024096385542168677,
          0.007228915662650603,
          0.0024096385542168677,
          0.007228915662650603,
          0.0024096385542168677,
          0.004819277108433735,
          0.0024096385542168677
         ],
         "yaxis": "y"
        },
        {
         "hovertemplate": "state=TX<br>period=%{x}<br>pct_cohort=%{y}<extra></extra>",
         "legendgroup": "TX",
         "line": {
          "color": "#ab63fa",
          "dash": "solid"
         },
         "marker": {
          "symbol": "circle"
         },
         "mode": "lines",
         "name": "TX",
         "showlegend": true,
         "type": "scattergl",
         "x": [
          0,
          1,
          2,
          3,
          4,
          5,
          6,
          7,
          8,
          9,
          10,
          11,
          12,
          13,
          14,
          15,
          16,
          17,
          18,
          19,
          20,
          21,
          22,
          23,
          24,
          25,
          26,
          27,
          28,
          29,
          30,
          31,
          32,
          33,
          34,
          35,
          36,
          37,
          38,
          39,
          40,
          41,
          42,
          43,
          45,
          47
         ],
         "xaxis": "x",
         "y": [
          1,
          0.30952380952380953,
          0.4421768707482993,
          0.20408163265306123,
          0.42517006802721086,
          0.20068027210884354,
          0.3741496598639456,
          0.20748299319727892,
          0.23809523809523808,
          0.17687074829931973,
          0.21768707482993196,
          0.14625850340136054,
          0.20068027210884354,
          0.15306122448979592,
          0.1292517006802721,
          0.08163265306122448,
          0.13945578231292516,
          0.10204081632653061,
          0.11564625850340136,
          0.09183673469387756,
          0.07142857142857142,
          0.08163265306122448,
          0.07142857142857142,
          0.08503401360544217,
          0.047619047619047616,
          0.05782312925170068,
          0.04081632653061224,
          0.03741496598639456,
          0.04421768707482993,
          0.04421768707482993,
          0.03741496598639456,
          0.023809523809523808,
          0.017006802721088437,
          0.017006802721088437,
          0.013605442176870748,
          0.013605442176870748,
          0.013605442176870748,
          0.006802721088435374,
          0.01020408163265306,
          0.01020408163265306,
          0.006802721088435374,
          0.006802721088435374,
          0.006802721088435374,
          0.006802721088435374,
          0.006802721088435374,
          0.003401360544217687
         ],
         "yaxis": "y"
        },
        {
         "hovertemplate": "state=OR<br>period=%{x}<br>pct_cohort=%{y}<extra></extra>",
         "legendgroup": "OR",
         "line": {
          "color": "#FFA15A",
          "dash": "solid"
         },
         "marker": {
          "symbol": "circle"
         },
         "mode": "lines",
         "name": "OR",
         "showlegend": true,
         "type": "scattergl",
         "x": [
          0,
          1,
          2,
          3,
          4,
          5,
          6,
          7,
          8,
          9,
          10,
          11,
          12,
          13,
          14,
          15,
          16,
          17,
          18,
          19,
          20,
          21,
          22,
          23,
          24,
          25,
          28,
          29,
          30,
          31,
          35
         ],
         "xaxis": "x",
         "y": [
          1,
          0.29473684210526313,
          0.15789473684210525,
          0.14736842105263157,
          0.18947368421052632,
          0.17894736842105263,
          0.2,
          0.1368421052631579,
          0.1368421052631579,
          0.11578947368421053,
          0.10526315789473684,
          0.06315789473684211,
          0.14736842105263157,
          0.07368421052631578,
          0.09473684210526316,
          0.031578947368421054,
          0.08421052631578947,
          0.05263157894736842,
          0.08421052631578947,
          0.05263157894736842,
          0.031578947368421054,
          0.010526315789473684,
          0.031578947368421054,
          0.031578947368421054,
          0.021052631578947368,
          0.021052631578947368,
          0.021052631578947368,
          0.010526315789473684,
          0.010526315789473684,
          0.010526315789473684,
          0.010526315789473684
         ],
         "yaxis": "y"
        },
        {
         "hovertemplate": "state=WY<br>period=%{x}<br>pct_cohort=%{y}<extra></extra>",
         "legendgroup": "WY",
         "line": {
          "color": "#19d3f3",
          "dash": "solid"
         },
         "marker": {
          "symbol": "circle"
         },
         "mode": "lines",
         "name": "WY",
         "showlegend": true,
         "type": "scattergl",
         "x": [
          0,
          1,
          2,
          3,
          4,
          5,
          6,
          7,
          8,
          9,
          10,
          11,
          12,
          13,
          15,
          16,
          17,
          18,
          20,
          21,
          22,
          23,
          25,
          28,
          35
         ],
         "xaxis": "x",
         "y": [
          1,
          0.18604651162790697,
          0.20930232558139536,
          0.11627906976744186,
          0.13953488372093023,
          0.20930232558139536,
          0.16279069767441862,
          0.09302325581395349,
          0.023255813953488372,
          0.046511627906976744,
          0.11627906976744186,
          0.11627906976744186,
          0.16279069767441862,
          0.046511627906976744,
          0.023255813953488372,
          0.046511627906976744,
          0.06976744186046512,
          0.023255813953488372,
          0.046511627906976744,
          0.06976744186046512,
          0.023255813953488372,
          0.023255813953488372,
          0.023255813953488372,
          0.023255813953488372,
          0.023255813953488372
         ],
         "yaxis": "y"
        },
        {
         "hovertemplate": "state=AR<br>period=%{x}<br>pct_cohort=%{y}<extra></extra>",
         "legendgroup": "AR",
         "line": {
          "color": "#FF6692",
          "dash": "solid"
         },
         "marker": {
          "symbol": "circle"
         },
         "mode": "lines",
         "name": "AR",
         "showlegend": true,
         "type": "scattergl",
         "x": [
          0,
          1,
          2,
          3,
          4,
          5,
          6,
          7,
          8,
          9,
          10,
          11,
          12,
          13,
          14,
          15,
          16,
          17,
          18,
          19,
          20,
          21,
          22,
          23,
          24,
          25,
          26,
          27,
          28,
          29,
          30,
          31,
          32,
          34,
          36,
          38
         ],
         "xaxis": "x",
         "y": [
          1,
          0.3170731707317073,
          0.3821138211382114,
          0.24390243902439024,
          0.3252032520325203,
          0.24390243902439024,
          0.21138211382113822,
          0.16260162601626016,
          0.22764227642276422,
          0.10569105691056911,
          0.14634146341463414,
          0.08943089430894309,
          0.08943089430894309,
          0.04878048780487805,
          0.08943089430894309,
          0.06504065040650407,
          0.06504065040650407,
          0.016260162601626018,
          0.06504065040650407,
          0.016260162601626018,
          0.07317073170731707,
          0.008130081300813009,
          0.056910569105691054,
          0.008130081300813009,
          0.024390243902439025,
          0.024390243902439025,
          0.024390243902439025,
          0.008130081300813009,
          0.024390243902439025,
          0.008130081300813009,
          0.008130081300813009,
          0.008130081300813009,
          0.016260162601626018,
          0.008130081300813009,
          0.008130081300813009,
          0.008130081300813009
         ],
         "yaxis": "y"
        },
        {
         "hovertemplate": "state=IL<br>period=%{x}<br>pct_cohort=%{y}<extra></extra>",
         "legendgroup": "IL",
         "line": {
          "color": "#B6E880",
          "dash": "solid"
         },
         "marker": {
          "symbol": "circle"
         },
         "mode": "lines",
         "name": "IL",
         "showlegend": true,
         "type": "scattergl",
         "x": [
          0,
          1,
          2,
          3,
          4,
          5,
          6,
          7,
          8,
          9,
          10,
          11,
          12,
          13,
          14,
          15,
          16,
          17,
          18,
          19,
          20,
          21,
          22,
          23,
          24,
          25,
          26,
          27,
          28,
          29,
          30,
          31,
          32,
          33,
          34,
          35,
          36,
          37,
          38,
          39,
          40,
          41,
          42,
          43,
          44,
          45,
          46,
          47,
          48
         ],
         "xaxis": "x",
         "y": [
          1,
          0.3175542406311637,
          0.29191321499013806,
          0.17751479289940827,
          0.2978303747534517,
          0.17357001972386588,
          0.1854043392504931,
          0.13214990138067062,
          0.13609467455621302,
          0.09467455621301775,
          0.14201183431952663,
          0.08481262327416174,
          0.11045364891518737,
          0.11242603550295859,
          0.05128205128205128,
          0.04930966469428008,
          0.09467455621301775,
          0.0611439842209073,
          0.04930966469428008,
          0.03944773175542406,
          0.045364891518737675,
          0.02564102564102564,
          0.045364891518737675,
          0.023668639053254437,
          0.021696252465483234,
          0.01972386587771203,
          0.01775147928994083,
          0.007889546351084813,
          0.015779092702169626,
          0.01972386587771203,
          0.009861932938856016,
          0.007889546351084813,
          0.015779092702169626,
          0.007889546351084813,
          0.013806706114398421,
          0.007889546351084813,
          0.007889546351084813,
          0.005917159763313609,
          0.005917159763313609,
          0.0039447731755424065,
          0.0039447731755424065,
          0.0039447731755424065,
          0.005917159763313609,
          0.0039447731755424065,
          0.0019723865877712033,
          0.0019723865877712033,
          0.0019723865877712033,
          0.0019723865877712033,
          0.0019723865877712033
         ],
         "yaxis": "y"
        },
        {
         "hovertemplate": "state=MT<br>period=%{x}<br>pct_cohort=%{y}<extra></extra>",
         "legendgroup": "MT",
         "line": {
          "color": "#FF97FF",
          "dash": "solid"
         },
         "marker": {
          "symbol": "circle"
         },
         "mode": "lines",
         "name": "MT",
         "showlegend": true,
         "type": "scattergl",
         "x": [
          0,
          1,
          2,
          3,
          4,
          5,
          6,
          7,
          8,
          9,
          10,
          11,
          12,
          13,
          14,
          15,
          16,
          17,
          18,
          20,
          21,
          23,
          27,
          28,
          33
         ],
         "xaxis": "x",
         "y": [
          1,
          0.2777777777777778,
          0.2777777777777778,
          0.16666666666666666,
          0.18518518518518517,
          0.14814814814814814,
          0.2037037037037037,
          0.07407407407407407,
          0.14814814814814814,
          0.09259259259259259,
          0.07407407407407407,
          0.09259259259259259,
          0.05555555555555555,
          0.037037037037037035,
          0.05555555555555555,
          0.05555555555555555,
          0.05555555555555555,
          0.018518518518518517,
          0.037037037037037035,
          0.018518518518518517,
          0.05555555555555555,
          0.018518518518518517,
          0.018518518518518517,
          0.018518518518518517,
          0.018518518518518517
         ],
         "yaxis": "y"
        },
        {
         "hovertemplate": "state=AK<br>period=%{x}<br>pct_cohort=%{y}<extra></extra>",
         "legendgroup": "AK",
         "line": {
          "color": "#FECB52",
          "dash": "solid"
         },
         "marker": {
          "symbol": "circle"
         },
         "mode": "lines",
         "name": "AK",
         "showlegend": true,
         "type": "scattergl",
         "x": [
          0,
          1,
          2,
          3,
          4,
          5,
          6,
          7,
          8,
          9,
          10,
          11,
          12,
          13,
          14,
          15,
          16,
          17,
          18,
          19,
          21,
          22,
          23,
          25,
          27,
          28,
          29,
          31,
          33,
          34,
          35,
          37,
          39,
          41,
          43,
          45
         ],
         "xaxis": "x",
         "y": [
          1,
          0.2631578947368421,
          0.21052631578947367,
          0.10526315789473684,
          0.3157894736842105,
          0.15789473684210525,
          0.2631578947368421,
          0.15789473684210525,
          0.15789473684210525,
          0.10526315789473684,
          0.15789473684210525,
          0.05263157894736842,
          0.10526315789473684,
          0.10526315789473684,
          0.05263157894736842,
          0.05263157894736842,
          0.10526315789473684,
          0.05263157894736842,
          0.05263157894736842,
          0.05263157894736842,
          0.05263157894736842,
          0.15789473684210525,
          0.05263157894736842,
          0.05263157894736842,
          0.05263157894736842,
          0.05263157894736842,
          0.05263157894736842,
          0.05263157894736842,
          0.05263157894736842,
          0.05263157894736842,
          0.05263157894736842,
          0.05263157894736842,
          0.05263157894736842,
          0.05263157894736842,
          0.05263157894736842,
          0.05263157894736842
         ],
         "yaxis": "y"
        },
        {
         "hovertemplate": "state=HI<br>period=%{x}<br>pct_cohort=%{y}<extra></extra>",
         "legendgroup": "HI",
         "line": {
          "color": "#636efa",
          "dash": "solid"
         },
         "marker": {
          "symbol": "circle"
         },
         "mode": "lines",
         "name": "HI",
         "showlegend": true,
         "type": "scattergl",
         "x": [
          0,
          1,
          2,
          3,
          4,
          5,
          6,
          7,
          8,
          9,
          10,
          11,
          12,
          13,
          14,
          15,
          16,
          17,
          18,
          19,
          20,
          21,
          22,
          23,
          24,
          25,
          27,
          28,
          30,
          32,
          33,
          34,
          35,
          39,
          45,
          51
         ],
         "xaxis": "x",
         "y": [
          1,
          0.2962962962962963,
          0.4074074074074074,
          0.07407407407407407,
          0.37037037037037035,
          0.2962962962962963,
          0.14814814814814814,
          0.18518518518518517,
          0.07407407407407407,
          0.14814814814814814,
          0.1111111111111111,
          0.07407407407407407,
          0.14814814814814814,
          0.1111111111111111,
          0.037037037037037035,
          0.07407407407407407,
          0.07407407407407407,
          0.037037037037037035,
          0.07407407407407407,
          0.037037037037037035,
          0.037037037037037035,
          0.037037037037037035,
          0.037037037037037035,
          0.037037037037037035,
          0.037037037037037035,
          0.07407407407407407,
          0.037037037037037035,
          0.037037037037037035,
          0.07407407407407407,
          0.037037037037037035,
          0.037037037037037035,
          0.037037037037037035,
          0.037037037037037035,
          0.037037037037037035,
          0.037037037037037035,
          0.037037037037037035
         ],
         "yaxis": "y"
        },
        {
         "hovertemplate": "state=UT<br>period=%{x}<br>pct_cohort=%{y}<extra></extra>",
         "legendgroup": "UT",
         "line": {
          "color": "#EF553B",
          "dash": "solid"
         },
         "marker": {
          "symbol": "circle"
         },
         "mode": "lines",
         "name": "UT",
         "showlegend": true,
         "type": "scattergl",
         "x": [
          0,
          1,
          2,
          3,
          4,
          5,
          6,
          7,
          8,
          9,
          10,
          11,
          12,
          13,
          14,
          15,
          16,
          17,
          18,
          19,
          20,
          23,
          24,
          26,
          30,
          32,
          35,
          37
         ],
         "xaxis": "x",
         "y": [
          1,
          0.2542372881355932,
          0.2542372881355932,
          0.1694915254237288,
          0.2542372881355932,
          0.2711864406779661,
          0.2711864406779661,
          0.1694915254237288,
          0.11864406779661017,
          0.13559322033898305,
          0.0847457627118644,
          0.1016949152542373,
          0.11864406779661017,
          0.03389830508474576,
          0.01694915254237288,
          0.01694915254237288,
          0.03389830508474576,
          0.01694915254237288,
          0.06779661016949153,
          0.01694915254237288,
          0.01694915254237288,
          0.01694915254237288,
          0.01694915254237288,
          0.01694915254237288,
          0.01694915254237288,
          0.01694915254237288,
          0.01694915254237288,
          0.01694915254237288
         ],
         "yaxis": "y"
        },
        {
         "hovertemplate": "state=ME<br>period=%{x}<br>pct_cohort=%{y}<extra></extra>",
         "legendgroup": "ME",
         "line": {
          "color": "#00cc96",
          "dash": "solid"
         },
         "marker": {
          "symbol": "circle"
         },
         "mode": "lines",
         "name": "ME",
         "showlegend": true,
         "type": "scattergl",
         "x": [
          0,
          1,
          2,
          3,
          4,
          5,
          6,
          7,
          8,
          9,
          10,
          11,
          12,
          13,
          14,
          15,
          16,
          17,
          18,
          19,
          21,
          22,
          24,
          25,
          26,
          27,
          28,
          30,
          32,
          36
         ],
         "xaxis": "x",
         "y": [
          1,
          0.24855491329479767,
          0.31213872832369943,
          0.12138728323699421,
          0.23121387283236994,
          0.08092485549132948,
          0.17341040462427745,
          0.08092485549132948,
          0.10982658959537572,
          0.07514450867052024,
          0.06358381502890173,
          0.06358381502890173,
          0.07514450867052024,
          0.03468208092485549,
          0.028901734104046242,
          0.017341040462427744,
          0.023121387283236993,
          0.03468208092485549,
          0.028901734104046242,
          0.011560693641618497,
          0.005780346820809248,
          0.017341040462427744,
          0.023121387283236993,
          0.011560693641618497,
          0.005780346820809248,
          0.005780346820809248,
          0.011560693641618497,
          0.017341040462427744,
          0.005780346820809248,
          0.011560693641618497
         ],
         "yaxis": "y"
        },
        {
         "hovertemplate": "state=CO<br>period=%{x}<br>pct_cohort=%{y}<extra></extra>",
         "legendgroup": "CO",
         "line": {
          "color": "#ab63fa",
          "dash": "solid"
         },
         "marker": {
          "symbol": "circle"
         },
         "mode": "lines",
         "name": "CO",
         "showlegend": true,
         "type": "scattergl",
         "x": [
          0,
          1,
          2,
          3,
          4,
          5,
          6,
          7,
          8,
          9,
          10,
          11,
          12,
          13,
          14,
          15,
          16,
          17,
          18,
          19,
          20,
          21,
          22,
          23,
          25,
          26,
          27,
          29,
          31
         ],
         "xaxis": "x",
         "y": [
          1,
          0.32323232323232326,
          0.29292929292929293,
          0.21212121212121213,
          0.26262626262626265,
          0.1717171717171717,
          0.24242424242424243,
          0.1717171717171717,
          0.13131313131313133,
          0.1111111111111111,
          0.1414141414141414,
          0.06060606060606061,
          0.1414141414141414,
          0.030303030303030304,
          0.08080808080808081,
          0.030303030303030304,
          0.08080808080808081,
          0.030303030303030304,
          0.050505050505050504,
          0.010101010101010102,
          0.050505050505050504,
          0.010101010101010102,
          0.04040404040404041,
          0.020202020202020204,
          0.030303030303030304,
          0.010101010101010102,
          0.020202020202020204,
          0.020202020202020204,
          0.010101010101010102
         ],
         "yaxis": "y"
        },
        {
         "hovertemplate": "state=SC<br>period=%{x}<br>pct_cohort=%{y}<extra></extra>",
         "legendgroup": "SC",
         "line": {
          "color": "#FFA15A",
          "dash": "solid"
         },
         "marker": {
          "symbol": "circle"
         },
         "mode": "lines",
         "name": "SC",
         "showlegend": true,
         "type": "scattergl",
         "x": [
          0,
          1,
          2,
          3,
          4,
          5,
          6,
          7,
          8,
          9,
          10,
          11,
          12,
          13,
          14,
          15,
          16,
          17,
          18,
          19,
          20,
          21,
          22,
          23,
          24,
          25,
          26,
          27,
          28,
          29,
          30,
          32,
          34,
          36,
          42
         ],
         "xaxis": "x",
         "y": [
          1,
          0.34099616858237547,
          0.2681992337164751,
          0.16475095785440613,
          0.28735632183908044,
          0.14559386973180077,
          0.21839080459770116,
          0.10344827586206896,
          0.14559386973180077,
          0.07662835249042145,
          0.10344827586206896,
          0.07662835249042145,
          0.08812260536398467,
          0.06130268199233716,
          0.05747126436781609,
          0.034482758620689655,
          0.0421455938697318,
          0.038314176245210725,
          0.034482758620689655,
          0.019157088122605363,
          0.034482758620689655,
          0.03065134099616858,
          0.02681992337164751,
          0.011494252873563218,
          0.022988505747126436,
          0.011494252873563218,
          0.019157088122605363,
          0.0038314176245210726,
          0.007662835249042145,
          0.011494252873563218,
          0.007662835249042145,
          0.007662835249042145,
          0.0038314176245210726,
          0.007662835249042145,
          0.0038314176245210726
         ],
         "yaxis": "y"
        },
        {
         "hovertemplate": "state=TN<br>period=%{x}<br>pct_cohort=%{y}<extra></extra>",
         "legendgroup": "TN",
         "line": {
          "color": "#19d3f3",
          "dash": "solid"
         },
         "marker": {
          "symbol": "circle"
         },
         "mode": "lines",
         "name": "TN",
         "showlegend": true,
         "type": "scattergl",
         "x": [
          0,
          1,
          2,
          3,
          4,
          5,
          6,
          7,
          8,
          9,
          10,
          11,
          12,
          13,
          14,
          15,
          16,
          17,
          18,
          19,
          20,
          21,
          22,
          23,
          24,
          25,
          26,
          27,
          28,
          29,
          30,
          31,
          32,
          33,
          34,
          35,
          36,
          37,
          39,
          45
         ],
         "xaxis": "x",
         "y": [
          1,
          0.2797427652733119,
          0.2958199356913183,
          0.12540192926045016,
          0.27009646302250806,
          0.1607717041800643,
          0.1832797427652733,
          0.0932475884244373,
          0.17684887459807075,
          0.07717041800643087,
          0.1157556270096463,
          0.08038585209003216,
          0.09967845659163987,
          0.05466237942122187,
          0.06430868167202572,
          0.04180064308681672,
          0.05787781350482315,
          0.04823151125401929,
          0.04501607717041801,
          0.03215434083601286,
          0.04823151125401929,
          0.01929260450160772,
          0.04180064308681672,
          0.01929260450160772,
          0.022508038585209004,
          0.00964630225080386,
          0.01929260450160772,
          0.012861736334405145,
          0.01929260450160772,
          0.00964630225080386,
          0.003215434083601286,
          0.006430868167202572,
          0.006430868167202572,
          0.003215434083601286,
          0.006430868167202572,
          0.006430868167202572,
          0.003215434083601286,
          0.003215434083601286,
          0.006430868167202572,
          0.003215434083601286
         ],
         "yaxis": "y"
        },
        {
         "hovertemplate": "state=NV<br>period=%{x}<br>pct_cohort=%{y}<extra></extra>",
         "legendgroup": "NV",
         "line": {
          "color": "#FF6692",
          "dash": "solid"
         },
         "marker": {
          "symbol": "circle"
         },
         "mode": "lines",
         "name": "NV",
         "showlegend": true,
         "type": "scattergl",
         "x": [
          0,
          1,
          2,
          3,
          4,
          5,
          6,
          7,
          8,
          9,
          10,
          11,
          12,
          14,
          15,
          16,
          17,
          18,
          20,
          21,
          22,
          23,
          28,
          29,
          35
         ],
         "xaxis": "x",
         "y": [
          1,
          0.1774193548387097,
          0.20967741935483872,
          0.14516129032258066,
          0.14516129032258066,
          0.20967741935483872,
          0.16129032258064516,
          0.06451612903225806,
          0.0967741935483871,
          0.016129032258064516,
          0.12903225806451613,
          0.04838709677419355,
          0.08064516129032258,
          0.03225806451612903,
          0.016129032258064516,
          0.04838709677419355,
          0.03225806451612903,
          0.03225806451612903,
          0.016129032258064516,
          0.016129032258064516,
          0.04838709677419355,
          0.03225806451612903,
          0.016129032258064516,
          0.016129032258064516,
          0.016129032258064516
         ],
         "yaxis": "y"
        },
        {
         "hovertemplate": "state=ID<br>period=%{x}<br>pct_cohort=%{y}<extra></extra>",
         "legendgroup": "ID",
         "line": {
          "color": "#B6E880",
          "dash": "solid"
         },
         "marker": {
          "symbol": "circle"
         },
         "mode": "lines",
         "name": "ID",
         "showlegend": true,
         "type": "scattergl",
         "x": [
          0,
          1,
          2,
          3,
          4,
          5,
          6,
          7,
          8,
          9,
          10,
          11,
          12,
          13,
          14,
          15,
          16,
          17,
          18,
          19,
          20,
          22,
          23,
          24,
          25,
          28,
          29
         ],
         "xaxis": "x",
         "y": [
          1,
          0.16129032258064516,
          0.3064516129032258,
          0.06451612903225806,
          0.27419354838709675,
          0.11290322580645161,
          0.1774193548387097,
          0.06451612903225806,
          0.06451612903225806,
          0.04838709677419355,
          0.06451612903225806,
          0.08064516129032258,
          0.08064516129032258,
          0.04838709677419355,
          0.06451612903225806,
          0.03225806451612903,
          0.08064516129032258,
          0.06451612903225806,
          0.06451612903225806,
          0.016129032258064516,
          0.016129032258064516,
          0.04838709677419355,
          0.016129032258064516,
          0.03225806451612903,
          0.016129032258064516,
          0.016129032258064516,
          0.016129032258064516
         ],
         "yaxis": "y"
        },
        {
         "hovertemplate": "state=MN<br>period=%{x}<br>pct_cohort=%{y}<extra></extra>",
         "legendgroup": "MN",
         "line": {
          "color": "#FF97FF",
          "dash": "solid"
         },
         "marker": {
          "symbol": "circle"
         },
         "mode": "lines",
         "name": "MN",
         "showlegend": true,
         "type": "scattergl",
         "x": [
          0,
          1,
          2,
          3,
          4,
          5,
          6,
          7,
          8,
          9,
          10,
          11,
          12,
          13,
          14,
          15,
          16,
          17,
          18,
          19,
          20,
          21,
          22,
          23,
          24,
          25,
          26,
          27,
          28,
          29,
          31,
          33,
          35,
          37,
          39,
          41
         ],
         "xaxis": "x",
         "y": [
          1,
          0.26627218934911245,
          0.33727810650887574,
          0.14201183431952663,
          0.33727810650887574,
          0.21893491124260356,
          0.21301775147928995,
          0.10059171597633136,
          0.20710059171597633,
          0.13609467455621302,
          0.14792899408284024,
          0.09467455621301775,
          0.1301775147928994,
          0.08284023668639054,
          0.05917159763313609,
          0.07692307692307693,
          0.07692307692307693,
          0.07692307692307693,
          0.04142011834319527,
          0.029585798816568046,
          0.04142011834319527,
          0.029585798816568046,
          0.029585798816568046,
          0.029585798816568046,
          0.011834319526627219,
          0.029585798816568046,
          0.011834319526627219,
          0.01775147928994083,
          0.011834319526627219,
          0.023668639053254437,
          0.011834319526627219,
          0.005917159763313609,
          0.005917159763313609,
          0.005917159763313609,
          0.005917159763313609,
          0.005917159763313609
         ],
         "yaxis": "y"
        },
        {
         "hovertemplate": "state=LA<br>period=%{x}<br>pct_cohort=%{y}<extra></extra>",
         "legendgroup": "LA",
         "line": {
          "color": "#FECB52",
          "dash": "solid"
         },
         "marker": {
          "symbol": "circle"
         },
         "mode": "lines",
         "name": "LA",
         "showlegend": true,
         "type": "scattergl",
         "x": [
          0,
          1,
          2,
          3,
          4,
          5,
          6,
          7,
          8,
          9,
          10,
          11,
          12,
          13,
          14,
          15,
          16,
          17,
          18,
          19,
          20,
          21,
          22,
          23,
          24,
          26,
          27,
          28,
          29,
          30,
          31,
          32,
          33,
          34
         ],
         "xaxis": "x",
         "y": [
          1,
          0.3054187192118227,
          0.270935960591133,
          0.2315270935960591,
          0.22167487684729065,
          0.1477832512315271,
          0.2315270935960591,
          0.15763546798029557,
          0.08866995073891626,
          0.08866995073891626,
          0.1330049261083744,
          0.11330049261083744,
          0.09852216748768473,
          0.10344827586206896,
          0.06403940886699508,
          0.03940886699507389,
          0.07881773399014778,
          0.04926108374384237,
          0.04926108374384237,
          0.03940886699507389,
          0.029556650246305417,
          0.024630541871921183,
          0.024630541871921183,
          0.014778325123152709,
          0.019704433497536946,
          0.024630541871921183,
          0.014778325123152709,
          0.014778325123152709,
          0.0049261083743842365,
          0.014778325123152709,
          0.0049261083743842365,
          0.0049261083743842365,
          0.0049261083743842365,
          0.014778325123152709
         ],
         "yaxis": "y"
        },
        {
         "hovertemplate": "state=VA<br>period=%{x}<br>pct_cohort=%{y}<extra></extra>",
         "legendgroup": "VA",
         "line": {
          "color": "#636efa",
          "dash": "solid"
         },
         "marker": {
          "symbol": "circle"
         },
         "mode": "lines",
         "name": "VA",
         "showlegend": true,
         "type": "scattergl",
         "x": [
          0,
          1,
          2,
          3,
          4,
          5,
          6,
          7,
          8,
          9,
          10,
          11,
          12,
          13,
          14,
          15,
          16,
          17,
          18,
          19,
          20,
          21,
          22,
          23,
          24,
          25,
          26,
          27,
          28,
          29,
          30,
          31,
          33,
          34,
          35,
          36,
          37,
          38,
          39,
          40,
          42
         ],
         "xaxis": "x",
         "y": [
          1,
          0.30155210643015523,
          0.31263858093126384,
          0.15299334811529933,
          0.270509977827051,
          0.11529933481152993,
          0.21951219512195122,
          0.11751662971175167,
          0.14412416851441243,
          0.09090909090909091,
          0.1286031042128603,
          0.07982261640798226,
          0.09090909090909091,
          0.05543237250554324,
          0.082039911308204,
          0.024390243902439025,
          0.07317073170731707,
          0.037694013303769404,
          0.05543237250554324,
          0.03547671840354767,
          0.028824833702882482,
          0.024390243902439025,
          0.028824833702882482,
          0.03325942350332594,
          0.011086474501108648,
          0.019955654101995565,
          0.008869179600886918,
          0.008869179600886918,
          0.011086474501108648,
          0.011086474501108648,
          0.008869179600886918,
          0.015521064301552107,
          0.0022172949002217295,
          0.008869179600886918,
          0.004434589800443459,
          0.0022172949002217295,
          0.0022172949002217295,
          0.0022172949002217295,
          0.004434589800443459,
          0.0022172949002217295,
          0.0022172949002217295
         ],
         "yaxis": "y"
        },
        {
         "hovertemplate": "state=IA<br>period=%{x}<br>pct_cohort=%{y}<extra></extra>",
         "legendgroup": "IA",
         "line": {
          "color": "#EF553B",
          "dash": "solid"
         },
         "marker": {
          "symbol": "circle"
         },
         "mode": "lines",
         "name": "IA",
         "showlegend": true,
         "type": "scattergl",
         "x": [
          0,
          1,
          2,
          3,
          4,
          5,
          6,
          7,
          8,
          9,
          10,
          11,
          12,
          13,
          14,
          15,
          16,
          17,
          18,
          19,
          20,
          21,
          22,
          23,
          24,
          25,
          26,
          27,
          28,
          29,
          31,
          32,
          33,
          35,
          39,
          41
         ],
         "xaxis": "x",
         "y": [
          1,
          0.32211538461538464,
          0.30288461538461536,
          0.1971153846153846,
          0.21634615384615385,
          0.1875,
          0.14903846153846154,
          0.10576923076923077,
          0.14903846153846154,
          0.09134615384615384,
          0.11538461538461539,
          0.09615384615384616,
          0.10096153846153846,
          0.0673076923076923,
          0.052884615384615384,
          0.03365384615384615,
          0.08653846153846154,
          0.057692307692307696,
          0.03365384615384615,
          0.014423076923076924,
          0.02403846153846154,
          0.02403846153846154,
          0.02403846153846154,
          0.028846153846153848,
          0.009615384615384616,
          0.009615384615384616,
          0.009615384615384616,
          0.009615384615384616,
          0.019230769230769232,
          0.014423076923076924,
          0.004807692307692308,
          0.004807692307692308,
          0.014423076923076924,
          0.004807692307692308,
          0.004807692307692308,
          0.004807692307692308
         ],
         "yaxis": "y"
        },
        {
         "hovertemplate": "state=WA<br>period=%{x}<br>pct_cohort=%{y}<extra></extra>",
         "legendgroup": "WA",
         "line": {
          "color": "#00cc96",
          "dash": "solid"
         },
         "marker": {
          "symbol": "circle"
         },
         "mode": "lines",
         "name": "WA",
         "showlegend": true,
         "type": "scattergl",
         "x": [
          0,
          1,
          2,
          3,
          4,
          5,
          6,
          7,
          8,
          9,
          10,
          11,
          12,
          13,
          14,
          15,
          16,
          17,
          18,
          19,
          20,
          21,
          22,
          23,
          24,
          25,
          26,
          28,
          30,
          31,
          32,
          34,
          36,
          38,
          42
         ],
         "xaxis": "x",
         "y": [
          1,
          0.28440366972477066,
          0.3577981651376147,
          0.22935779816513763,
          0.3119266055045872,
          0.21100917431192662,
          0.29357798165137616,
          0.28440366972477066,
          0.1743119266055046,
          0.11926605504587157,
          0.2018348623853211,
          0.11009174311926606,
          0.13761467889908258,
          0.11926605504587157,
          0.06422018348623854,
          0.009174311926605505,
          0.11009174311926606,
          0.03669724770642202,
          0.07339449541284404,
          0.03669724770642202,
          0.027522935779816515,
          0.01834862385321101,
          0.03669724770642202,
          0.027522935779816515,
          0.01834862385321101,
          0.01834862385321101,
          0.027522935779816515,
          0.027522935779816515,
          0.01834862385321101,
          0.009174311926605505,
          0.009174311926605505,
          0.009174311926605505,
          0.009174311926605505,
          0.009174311926605505,
          0.009174311926605505
         ],
         "yaxis": "y"
        },
        {
         "hovertemplate": "state=DE<br>period=%{x}<br>pct_cohort=%{y}<extra></extra>",
         "legendgroup": "DE",
         "line": {
          "color": "#ab63fa",
          "dash": "solid"
         },
         "marker": {
          "symbol": "circle"
         },
         "mode": "lines",
         "name": "DE",
         "showlegend": true,
         "type": "scattergl",
         "x": [
          0,
          1,
          2,
          3,
          4,
          5,
          6,
          7,
          8,
          9,
          10,
          11,
          12,
          13,
          14,
          15,
          16,
          17,
          18,
          20,
          21,
          23,
          24,
          25,
          27,
          30,
          36
         ],
         "xaxis": "x",
         "y": [
          1,
          0.2,
          0.21,
          0.04,
          0.17,
          0.06,
          0.11,
          0.03,
          0.04,
          0.02,
          0.03,
          0.01,
          0.06,
          0.02,
          0.02,
          0.03,
          0.03,
          0.01,
          0.04,
          0.01,
          0.02,
          0.01,
          0.02,
          0.01,
          0.01,
          0.02,
          0.02
         ],
         "yaxis": "y"
        },
        {
         "hovertemplate": "state=PI<br>period=%{x}<br>pct_cohort=%{y}<extra></extra>",
         "legendgroup": "PI",
         "line": {
          "color": "#FFA15A",
          "dash": "solid"
         },
         "marker": {
          "symbol": "circle"
         },
         "mode": "lines",
         "name": "PI",
         "showlegend": true,
         "type": "scattergl",
         "x": [
          0,
          1,
          2,
          3,
          4,
          5,
          6,
          8,
          9,
          11
         ],
         "xaxis": "x",
         "y": [
          1,
          0.38461538461538464,
          0.5384615384615384,
          0.23076923076923078,
          0.3076923076923077,
          0.07692307692307693,
          0.23076923076923078,
          0.15384615384615385,
          0.15384615384615385,
          0.07692307692307693
         ],
         "yaxis": "y"
        },
        {
         "hovertemplate": "state=MP<br>period=%{x}<br>pct_cohort=%{y}<extra></extra>",
         "legendgroup": "MP",
         "line": {
          "color": "#19d3f3",
          "dash": "solid"
         },
         "marker": {
          "symbol": "circle"
         },
         "mode": "lines",
         "name": "MP",
         "showlegend": true,
         "type": "scattergl",
         "x": [
          0,
          1,
          3,
          6,
          7,
          9
         ],
         "xaxis": "x",
         "y": [
          1,
          1,
          1,
          1,
          1,
          1
         ],
         "yaxis": "y"
        },
        {
         "hovertemplate": "state=IN<br>period=%{x}<br>pct_cohort=%{y}<extra></extra>",
         "legendgroup": "IN",
         "line": {
          "color": "#FF6692",
          "dash": "solid"
         },
         "marker": {
          "symbol": "circle"
         },
         "mode": "lines",
         "name": "IN",
         "showlegend": true,
         "type": "scattergl",
         "x": [
          0,
          1,
          2,
          3,
          4,
          5,
          6,
          7,
          8,
          9,
          10,
          11,
          12,
          13,
          14,
          15,
          16,
          17,
          18,
          19,
          20,
          21,
          22,
          23,
          24,
          25,
          26,
          27,
          28,
          29,
          30,
          32,
          33,
          34,
          37
         ],
         "xaxis": "x",
         "y": [
          1,
          0.311614730878187,
          0.28611898016997167,
          0.13314447592067988,
          0.29461756373937675,
          0.1359773371104816,
          0.21246458923512748,
          0.0906515580736544,
          0.1274787535410765,
          0.06232294617563739,
          0.10198300283286119,
          0.042492917847025496,
          0.07932011331444759,
          0.039660056657223795,
          0.0453257790368272,
          0.019830028328611898,
          0.056657223796033995,
          0.0339943342776204,
          0.025495750708215296,
          0.0169971671388102,
          0.025495750708215296,
          0.014164305949008499,
          0.0226628895184136,
          0.0226628895184136,
          0.014164305949008499,
          0.019830028328611898,
          0.014164305949008499,
          0.0028328611898017,
          0.019830028328611898,
          0.0084985835694051,
          0.019830028328611898,
          0.019830028328611898,
          0.0028328611898017,
          0.0028328611898017,
          0.0028328611898017
         ],
         "yaxis": "y"
        },
        {
         "hovertemplate": "state=MO<br>period=%{x}<br>pct_cohort=%{y}<extra></extra>",
         "legendgroup": "MO",
         "line": {
          "color": "#B6E880",
          "dash": "solid"
         },
         "marker": {
          "symbol": "circle"
         },
         "mode": "lines",
         "name": "MO",
         "showlegend": true,
         "type": "scattergl",
         "x": [
          0,
          1,
          2,
          3,
          4,
          5,
          6,
          7,
          8,
          9,
          10,
          11,
          12,
          13,
          14,
          15,
          16,
          17,
          18,
          19,
          20,
          21,
          22,
          23,
          24,
          25,
          26,
          27,
          28,
          29,
          30,
          31,
          32,
          33,
          35,
          37,
          39
         ],
         "xaxis": "x",
         "y": [
          1,
          0.22807017543859648,
          0.26900584795321636,
          0.14912280701754385,
          0.24853801169590642,
          0.12280701754385964,
          0.195906432748538,
          0.07309941520467836,
          0.15497076023391812,
          0.08187134502923976,
          0.10818713450292397,
          0.05263157894736842,
          0.10818713450292397,
          0.06432748538011696,
          0.06140350877192982,
          0.038011695906432746,
          0.06725146198830409,
          0.04678362573099415,
          0.04678362573099415,
          0.03508771929824561,
          0.023391812865497075,
          0.017543859649122806,
          0.023391812865497075,
          0.038011695906432746,
          0.005847953216374269,
          0.011695906432748537,
          0.014619883040935672,
          0.0029239766081871343,
          0.011695906432748537,
          0.014619883040935672,
          0.008771929824561403,
          0.005847953216374269,
          0.008771929824561403,
          0.005847953216374269,
          0.0029239766081871343,
          0.0029239766081871343,
          0.0029239766081871343
         ],
         "yaxis": "y"
        },
        {
         "hovertemplate": "state=NY<br>period=%{x}<br>pct_cohort=%{y}<extra></extra>",
         "legendgroup": "NY",
         "line": {
          "color": "#FF97FF",
          "dash": "solid"
         },
         "marker": {
          "symbol": "circle"
         },
         "mode": "lines",
         "name": "NY",
         "showlegend": true,
         "type": "scattergl",
         "x": [
          0,
          1,
          2,
          3,
          4,
          5,
          6,
          7,
          8,
          9,
          10,
          11,
          12,
          13,
          14,
          15,
          16,
          17,
          18,
          19,
          20,
          21,
          22,
          23,
          24,
          25,
          26,
          27,
          28,
          29,
          30,
          31,
          32,
          33,
          34,
          35,
          36,
          37,
          39,
          40,
          41,
          43,
          45,
          47
         ],
         "xaxis": "x",
         "y": [
          1,
          0.2340710932260228,
          0.2260228034875922,
          0.10529845741113347,
          0.17370892018779344,
          0.09054325955734406,
          0.13615023474178403,
          0.07176391683433937,
          0.0892018779342723,
          0.06237424547283702,
          0.07981220657276995,
          0.055667337357478204,
          0.05902079141515761,
          0.051643192488262914,
          0.04225352112676056,
          0.02682763246143528,
          0.042924211938296444,
          0.028839704896042925,
          0.022132796780684104,
          0.022803487592219986,
          0.015425888665325285,
          0.01676727028839705,
          0.019450033534540577,
          0.018108651911468814,
          0.012072434607645875,
          0.014084507042253521,
          0.008048289738430584,
          0.007377598926894702,
          0.01006036217303823,
          0.008048289738430584,
          0.004694835680751174,
          0.004694835680751174,
          0.0013413816230717639,
          0.004024144869215292,
          0.0013413816230717639,
          0.0053655264922870555,
          0.0006706908115358819,
          0.004024144869215292,
          0.002012072434607646,
          0.002012072434607646,
          0.0013413816230717639,
          0.0013413816230717639,
          0.0006706908115358819,
          0.0006706908115358819
         ],
         "yaxis": "y"
        },
        {
         "hovertemplate": "state=KS<br>period=%{x}<br>pct_cohort=%{y}<extra></extra>",
         "legendgroup": "KS",
         "line": {
          "color": "#FECB52",
          "dash": "solid"
         },
         "marker": {
          "symbol": "circle"
         },
         "mode": "lines",
         "name": "KS",
         "showlegend": true,
         "type": "scattergl",
         "x": [
          0,
          1,
          2,
          3,
          4,
          5,
          6,
          7,
          8,
          9,
          10,
          11,
          12,
          13,
          14,
          15,
          16,
          17,
          18,
          19,
          20,
          21,
          22,
          23,
          25,
          26,
          27,
          28,
          32,
          34
         ],
         "xaxis": "x",
         "y": [
          1,
          0.3013698630136986,
          0.2808219178082192,
          0.1643835616438356,
          0.3150684931506849,
          0.17123287671232876,
          0.2465753424657534,
          0.13013698630136986,
          0.15753424657534246,
          0.1232876712328767,
          0.1095890410958904,
          0.0684931506849315,
          0.11643835616438356,
          0.0958904109589041,
          0.0273972602739726,
          0.0410958904109589,
          0.03424657534246575,
          0.03424657534246575,
          0.0136986301369863,
          0.0273972602739726,
          0.0136986301369863,
          0.00684931506849315,
          0.0273972602739726,
          0.0136986301369863,
          0.00684931506849315,
          0.00684931506849315,
          0.0136986301369863,
          0.0136986301369863,
          0.00684931506849315,
          0.0136986301369863
         ],
         "yaxis": "y"
        },
        {
         "hovertemplate": "state=MA<br>period=%{x}<br>pct_cohort=%{y}<extra></extra>",
         "legendgroup": "MA",
         "line": {
          "color": "#636efa",
          "dash": "solid"
         },
         "marker": {
          "symbol": "circle"
         },
         "mode": "lines",
         "name": "MA",
         "showlegend": true,
         "type": "scattergl",
         "x": [
          0,
          1,
          2,
          3,
          4,
          5,
          6,
          7,
          8,
          9,
          10,
          11,
          12,
          13,
          14,
          15,
          16,
          17,
          18,
          19,
          20,
          21,
          22,
          23,
          24,
          25,
          26,
          27,
          28,
          29,
          30,
          31,
          32,
          33,
          34,
          35,
          36,
          37,
          38,
          39,
          40,
          41,
          42,
          44
         ],
         "xaxis": "x",
         "y": [
          1,
          0.3363431151241535,
          0.3295711060948081,
          0.19187358916478556,
          0.2595936794582393,
          0.14672686230248308,
          0.20316027088036118,
          0.12641083521444696,
          0.11060948081264109,
          0.09480812641083522,
          0.10609480812641084,
          0.06772009029345373,
          0.07900677200902935,
          0.0744920993227991,
          0.04740406320541761,
          0.04740406320541761,
          0.05191873589164785,
          0.056433408577878104,
          0.03160270880361174,
          0.033860045146726865,
          0.04288939051918736,
          0.02708803611738149,
          0.02708803611738149,
          0.033860045146726865,
          0.022573363431151242,
          0.02708803611738149,
          0.024830699774266364,
          0.01805869074492099,
          0.01580135440180587,
          0.020316027088036117,
          0.013544018058690745,
          0.013544018058690745,
          0.01580135440180587,
          0.013544018058690745,
          0.002257336343115124,
          0.011286681715575621,
          0.002257336343115124,
          0.009029345372460496,
          0.004514672686230248,
          0.006772009029345372,
          0.002257336343115124,
          0.002257336343115124,
          0.002257336343115124,
          0.004514672686230248
         ],
         "yaxis": "y"
        },
        {
         "hovertemplate": "state=OK<br>period=%{x}<br>pct_cohort=%{y}<extra></extra>",
         "legendgroup": "OK",
         "line": {
          "color": "#EF553B",
          "dash": "solid"
         },
         "marker": {
          "symbol": "circle"
         },
         "mode": "lines",
         "name": "OK",
         "showlegend": true,
         "type": "scattergl",
         "x": [
          0,
          1,
          2,
          3,
          4,
          5,
          6,
          7,
          8,
          9,
          10,
          11,
          12,
          13,
          14,
          15,
          16,
          17,
          18,
          19,
          20,
          21,
          22,
          23,
          24,
          25,
          26,
          28,
          30
         ],
         "xaxis": "x",
         "y": [
          1,
          0.23469387755102042,
          0.3877551020408163,
          0.16326530612244897,
          0.3673469387755102,
          0.22448979591836735,
          0.2653061224489796,
          0.1836734693877551,
          0.19387755102040816,
          0.12244897959183673,
          0.19387755102040816,
          0.17346938775510204,
          0.1326530612244898,
          0.10204081632653061,
          0.07142857142857142,
          0.061224489795918366,
          0.10204081632653061,
          0.05102040816326531,
          0.08163265306122448,
          0.01020408163265306,
          0.061224489795918366,
          0.02040816326530612,
          0.061224489795918366,
          0.030612244897959183,
          0.05102040816326531,
          0.01020408163265306,
          0.02040816326530612,
          0.030612244897959183,
          0.01020408163265306
         ],
         "yaxis": "y"
        },
        {
         "hovertemplate": "state=AZ<br>period=%{x}<br>pct_cohort=%{y}<extra></extra>",
         "legendgroup": "AZ",
         "line": {
          "color": "#00cc96",
          "dash": "solid"
         },
         "marker": {
          "symbol": "circle"
         },
         "mode": "lines",
         "name": "AZ",
         "showlegend": true,
         "type": "scattergl",
         "x": [
          0,
          1,
          2,
          3,
          4,
          5,
          6,
          7,
          8,
          9,
          10,
          11,
          12,
          13,
          14,
          15,
          16,
          17,
          18,
          19,
          20,
          21,
          22,
          23,
          24,
          26,
          27,
          28,
          30,
          31,
          33,
          34,
          39,
          45,
          51
         ],
         "xaxis": "x",
         "y": [
          1,
          0.3220338983050847,
          0.3559322033898305,
          0.1864406779661017,
          0.3898305084745763,
          0.2542372881355932,
          0.1864406779661017,
          0.13559322033898305,
          0.15254237288135594,
          0.0847457627118644,
          0.1694915254237288,
          0.1016949152542373,
          0.13559322033898305,
          0.1016949152542373,
          0.1016949152542373,
          0.01694915254237288,
          0.13559322033898305,
          0.05084745762711865,
          0.0847457627118644,
          0.03389830508474576,
          0.1016949152542373,
          0.01694915254237288,
          0.1016949152542373,
          0.03389830508474576,
          0.05084745762711865,
          0.03389830508474576,
          0.01694915254237288,
          0.0847457627118644,
          0.01694915254237288,
          0.01694915254237288,
          0.01694915254237288,
          0.01694915254237288,
          0.01694915254237288,
          0.01694915254237288,
          0.01694915254237288
         ],
         "yaxis": "y"
        },
        {
         "hovertemplate": "state=OL<br>period=%{x}<br>pct_cohort=%{y}<extra></extra>",
         "legendgroup": "OL",
         "line": {
          "color": "#ab63fa",
          "dash": "solid"
         },
         "marker": {
          "symbol": "circle"
         },
         "mode": "lines",
         "name": "OL",
         "showlegend": true,
         "type": "scattergl",
         "x": [
          0,
          1
         ],
         "xaxis": "x",
         "y": [
          1,
          0.5
         ],
         "yaxis": "y"
        },
        {
         "hovertemplate": "state=OH<br>period=%{x}<br>pct_cohort=%{y}<extra></extra>",
         "legendgroup": "OH",
         "line": {
          "color": "#FFA15A",
          "dash": "solid"
         },
         "marker": {
          "symbol": "circle"
         },
         "mode": "lines",
         "name": "OH",
         "showlegend": true,
         "type": "scattergl",
         "x": [
          0,
          1,
          2,
          3,
          4,
          5,
          6,
          7,
          8,
          9,
          10,
          11,
          12,
          13,
          14,
          15,
          16,
          17,
          18,
          19,
          20,
          21,
          22,
          23,
          24,
          25,
          26,
          27,
          28,
          29,
          30,
          31,
          32,
          33,
          34,
          35,
          36,
          37,
          38,
          39,
          42,
          43,
          45,
          50
         ],
         "xaxis": "x",
         "y": [
          1,
          0.3025936599423631,
          0.2881844380403458,
          0.14553314121037464,
          0.21613832853025935,
          0.11815561959654179,
          0.15706051873198848,
          0.08069164265129683,
          0.11815561959654179,
          0.05763688760806916,
          0.09654178674351585,
          0.04610951008645533,
          0.0792507204610951,
          0.053314121037463975,
          0.04899135446685879,
          0.023054755043227664,
          0.06340057636887608,
          0.03025936599423631,
          0.040345821325648415,
          0.020172910662824207,
          0.03170028818443804,
          0.024495677233429394,
          0.021613832853025938,
          0.021613832853025938,
          0.018731988472622477,
          0.01585014409221902,
          0.01585014409221902,
          0.011527377521613832,
          0.010086455331412104,
          0.008645533141210375,
          0.007204610951008645,
          0.011527377521613832,
          0.004322766570605188,
          0.001440922190201729,
          0.005763688760806916,
          0.002881844380403458,
          0.004322766570605188,
          0.005763688760806916,
          0.001440922190201729,
          0.002881844380403458,
          0.001440922190201729,
          0.001440922190201729,
          0.001440922190201729,
          0.001440922190201729
         ],
         "yaxis": "y"
        },
        {
         "hovertemplate": "state=GU<br>period=%{x}<br>pct_cohort=%{y}<extra></extra>",
         "legendgroup": "GU",
         "line": {
          "color": "#19d3f3",
          "dash": "solid"
         },
         "marker": {
          "symbol": "circle"
         },
         "mode": "lines",
         "name": "GU",
         "showlegend": true,
         "type": "scattergl",
         "x": [
          0,
          1,
          2,
          3,
          4,
          5,
          6,
          7,
          8,
          9,
          10,
          11,
          13
         ],
         "xaxis": "x",
         "y": [
          1,
          0.4,
          0.4,
          0.2,
          0.6,
          0.2,
          0.6,
          0.4,
          0.2,
          0.2,
          0.2,
          0.2,
          0.2
         ],
         "yaxis": "y"
        },
        {
         "hovertemplate": "state=AS<br>period=%{x}<br>pct_cohort=%{y}<extra></extra>",
         "legendgroup": "AS",
         "line": {
          "color": "#FF6692",
          "dash": "solid"
         },
         "marker": {
          "symbol": "circle"
         },
         "mode": "lines",
         "name": "AS",
         "showlegend": true,
         "type": "scattergl",
         "x": [
          0,
          1,
          2,
          3,
          4,
          6,
          8,
          10,
          12,
          14,
          16,
          18,
          20,
          22,
          24
         ],
         "xaxis": "x",
         "y": [
          1,
          0.6666666666666666,
          0.3333333333333333,
          0.6666666666666666,
          0.3333333333333333,
          0.6666666666666666,
          0.3333333333333333,
          0.3333333333333333,
          0.3333333333333333,
          0.3333333333333333,
          0.3333333333333333,
          0.3333333333333333,
          0.3333333333333333,
          0.3333333333333333,
          0.3333333333333333
         ],
         "yaxis": "y"
        },
        {
         "hovertemplate": "state=FL<br>period=%{x}<br>pct_cohort=%{y}<extra></extra>",
         "legendgroup": "FL",
         "line": {
          "color": "#B6E880",
          "dash": "solid"
         },
         "marker": {
          "symbol": "circle"
         },
         "mode": "lines",
         "name": "FL",
         "showlegend": true,
         "type": "scattergl",
         "x": [
          0,
          1,
          2,
          3,
          4,
          5,
          6,
          7,
          8,
          9,
          10,
          11,
          12,
          13,
          14,
          15,
          16,
          17,
          18,
          19,
          20,
          21,
          22,
          23,
          24,
          25,
          26,
          27,
          28,
          29,
          30,
          31,
          32,
          33,
          34,
          35,
          36,
          37,
          38,
          39,
          40,
          41,
          42,
          43,
          45,
          47,
          49,
          51,
          53
         ],
         "xaxis": "x",
         "y": [
          1,
          0.3333333333333333,
          0.366120218579235,
          0.14207650273224043,
          0.3989071038251366,
          0.19672131147540983,
          0.3333333333333333,
          0.17486338797814208,
          0.17486338797814208,
          0.12568306010928962,
          0.15846994535519127,
          0.11475409836065574,
          0.15846994535519127,
          0.11475409836065574,
          0.07103825136612021,
          0.03278688524590164,
          0.1092896174863388,
          0.0546448087431694,
          0.08743169398907104,
          0.04918032786885246,
          0.04918032786885246,
          0.03278688524590164,
          0.0546448087431694,
          0.0273224043715847,
          0.02185792349726776,
          0.01639344262295082,
          0.02185792349726776,
          0.0273224043715847,
          0.01639344262295082,
          0.02185792349726776,
          0.01092896174863388,
          0.01639344262295082,
          0.01639344262295082,
          0.02185792349726776,
          0.01092896174863388,
          0.01639344262295082,
          0.01092896174863388,
          0.01092896174863388,
          0.00546448087431694,
          0.01092896174863388,
          0.00546448087431694,
          0.01092896174863388,
          0.00546448087431694,
          0.00546448087431694,
          0.00546448087431694,
          0.00546448087431694,
          0.00546448087431694,
          0.00546448087431694,
          0.00546448087431694
         ],
         "yaxis": "y"
        },
        {
         "hovertemplate": "state=VT<br>period=%{x}<br>pct_cohort=%{y}<extra></extra>",
         "legendgroup": "VT",
         "line": {
          "color": "#FF97FF",
          "dash": "solid"
         },
         "marker": {
          "symbol": "circle"
         },
         "mode": "lines",
         "name": "VT",
         "showlegend": true,
         "type": "scattergl",
         "x": [
          0,
          1,
          2,
          3,
          4,
          5,
          6,
          7,
          8,
          9,
          10,
          11,
          12,
          13,
          14,
          15,
          16,
          17,
          19,
          20,
          21,
          22,
          23,
          24,
          25,
          28,
          29,
          30,
          35,
          36,
          41
         ],
         "xaxis": "x",
         "y": [
          1,
          0.2916666666666667,
          0.225,
          0.13333333333333333,
          0.275,
          0.2,
          0.10833333333333334,
          0.11666666666666667,
          0.08333333333333333,
          0.1,
          0.08333333333333333,
          0.10833333333333334,
          0.025,
          0.03333333333333333,
          0.03333333333333333,
          0.041666666666666664,
          0.041666666666666664,
          0.041666666666666664,
          0.025,
          0.008333333333333333,
          0.016666666666666666,
          0.025,
          0.016666666666666666,
          0.016666666666666666,
          0.008333333333333333,
          0.016666666666666666,
          0.008333333333333333,
          0.008333333333333333,
          0.008333333333333333,
          0.008333333333333333,
          0.016666666666666666
         ],
         "yaxis": "y"
        }
       ],
       "layout": {
        "legend": {
         "title": {
          "text": "state"
         },
         "tracegroupgap": 0
        },
        "margin": {
         "t": 60
        },
        "template": {
         "data": {
          "bar": [
           {
            "error_x": {
             "color": "#2a3f5f"
            },
            "error_y": {
             "color": "#2a3f5f"
            },
            "marker": {
             "line": {
              "color": "#E5ECF6",
              "width": 0.5
             },
             "pattern": {
              "fillmode": "overlay",
              "size": 10,
              "solidity": 0.2
             }
            },
            "type": "bar"
           }
          ],
          "barpolar": [
           {
            "marker": {
             "line": {
              "color": "#E5ECF6",
              "width": 0.5
             },
             "pattern": {
              "fillmode": "overlay",
              "size": 10,
              "solidity": 0.2
             }
            },
            "type": "barpolar"
           }
          ],
          "carpet": [
           {
            "aaxis": {
             "endlinecolor": "#2a3f5f",
             "gridcolor": "white",
             "linecolor": "white",
             "minorgridcolor": "white",
             "startlinecolor": "#2a3f5f"
            },
            "baxis": {
             "endlinecolor": "#2a3f5f",
             "gridcolor": "white",
             "linecolor": "white",
             "minorgridcolor": "white",
             "startlinecolor": "#2a3f5f"
            },
            "type": "carpet"
           }
          ],
          "choropleth": [
           {
            "colorbar": {
             "outlinewidth": 0,
             "ticks": ""
            },
            "type": "choropleth"
           }
          ],
          "contour": [
           {
            "colorbar": {
             "outlinewidth": 0,
             "ticks": ""
            },
            "colorscale": [
             [
              0,
              "#0d0887"
             ],
             [
              0.1111111111111111,
              "#46039f"
             ],
             [
              0.2222222222222222,
              "#7201a8"
             ],
             [
              0.3333333333333333,
              "#9c179e"
             ],
             [
              0.4444444444444444,
              "#bd3786"
             ],
             [
              0.5555555555555556,
              "#d8576b"
             ],
             [
              0.6666666666666666,
              "#ed7953"
             ],
             [
              0.7777777777777778,
              "#fb9f3a"
             ],
             [
              0.8888888888888888,
              "#fdca26"
             ],
             [
              1,
              "#f0f921"
             ]
            ],
            "type": "contour"
           }
          ],
          "contourcarpet": [
           {
            "colorbar": {
             "outlinewidth": 0,
             "ticks": ""
            },
            "type": "contourcarpet"
           }
          ],
          "heatmap": [
           {
            "colorbar": {
             "outlinewidth": 0,
             "ticks": ""
            },
            "colorscale": [
             [
              0,
              "#0d0887"
             ],
             [
              0.1111111111111111,
              "#46039f"
             ],
             [
              0.2222222222222222,
              "#7201a8"
             ],
             [
              0.3333333333333333,
              "#9c179e"
             ],
             [
              0.4444444444444444,
              "#bd3786"
             ],
             [
              0.5555555555555556,
              "#d8576b"
             ],
             [
              0.6666666666666666,
              "#ed7953"
             ],
             [
              0.7777777777777778,
              "#fb9f3a"
             ],
             [
              0.8888888888888888,
              "#fdca26"
             ],
             [
              1,
              "#f0f921"
             ]
            ],
            "type": "heatmap"
           }
          ],
          "heatmapgl": [
           {
            "colorbar": {
             "outlinewidth": 0,
             "ticks": ""
            },
            "colorscale": [
             [
              0,
              "#0d0887"
             ],
             [
              0.1111111111111111,
              "#46039f"
             ],
             [
              0.2222222222222222,
              "#7201a8"
             ],
             [
              0.3333333333333333,
              "#9c179e"
             ],
             [
              0.4444444444444444,
              "#bd3786"
             ],
             [
              0.5555555555555556,
              "#d8576b"
             ],
             [
              0.6666666666666666,
              "#ed7953"
             ],
             [
              0.7777777777777778,
              "#fb9f3a"
             ],
             [
              0.8888888888888888,
              "#fdca26"
             ],
             [
              1,
              "#f0f921"
             ]
            ],
            "type": "heatmapgl"
           }
          ],
          "histogram": [
           {
            "marker": {
             "pattern": {
              "fillmode": "overlay",
              "size": 10,
              "solidity": 0.2
             }
            },
            "type": "histogram"
           }
          ],
          "histogram2d": [
           {
            "colorbar": {
             "outlinewidth": 0,
             "ticks": ""
            },
            "colorscale": [
             [
              0,
              "#0d0887"
             ],
             [
              0.1111111111111111,
              "#46039f"
             ],
             [
              0.2222222222222222,
              "#7201a8"
             ],
             [
              0.3333333333333333,
              "#9c179e"
             ],
             [
              0.4444444444444444,
              "#bd3786"
             ],
             [
              0.5555555555555556,
              "#d8576b"
             ],
             [
              0.6666666666666666,
              "#ed7953"
             ],
             [
              0.7777777777777778,
              "#fb9f3a"
             ],
             [
              0.8888888888888888,
              "#fdca26"
             ],
             [
              1,
              "#f0f921"
             ]
            ],
            "type": "histogram2d"
           }
          ],
          "histogram2dcontour": [
           {
            "colorbar": {
             "outlinewidth": 0,
             "ticks": ""
            },
            "colorscale": [
             [
              0,
              "#0d0887"
             ],
             [
              0.1111111111111111,
              "#46039f"
             ],
             [
              0.2222222222222222,
              "#7201a8"
             ],
             [
              0.3333333333333333,
              "#9c179e"
             ],
             [
              0.4444444444444444,
              "#bd3786"
             ],
             [
              0.5555555555555556,
              "#d8576b"
             ],
             [
              0.6666666666666666,
              "#ed7953"
             ],
             [
              0.7777777777777778,
              "#fb9f3a"
             ],
             [
              0.8888888888888888,
              "#fdca26"
             ],
             [
              1,
              "#f0f921"
             ]
            ],
            "type": "histogram2dcontour"
           }
          ],
          "mesh3d": [
           {
            "colorbar": {
             "outlinewidth": 0,
             "ticks": ""
            },
            "type": "mesh3d"
           }
          ],
          "parcoords": [
           {
            "line": {
             "colorbar": {
              "outlinewidth": 0,
              "ticks": ""
             }
            },
            "type": "parcoords"
           }
          ],
          "pie": [
           {
            "automargin": true,
            "type": "pie"
           }
          ],
          "scatter": [
           {
            "fillpattern": {
             "fillmode": "overlay",
             "size": 10,
             "solidity": 0.2
            },
            "type": "scatter"
           }
          ],
          "scatter3d": [
           {
            "line": {
             "colorbar": {
              "outlinewidth": 0,
              "ticks": ""
             }
            },
            "marker": {
             "colorbar": {
              "outlinewidth": 0,
              "ticks": ""
             }
            },
            "type": "scatter3d"
           }
          ],
          "scattercarpet": [
           {
            "marker": {
             "colorbar": {
              "outlinewidth": 0,
              "ticks": ""
             }
            },
            "type": "scattercarpet"
           }
          ],
          "scattergeo": [
           {
            "marker": {
             "colorbar": {
              "outlinewidth": 0,
              "ticks": ""
             }
            },
            "type": "scattergeo"
           }
          ],
          "scattergl": [
           {
            "marker": {
             "colorbar": {
              "outlinewidth": 0,
              "ticks": ""
             }
            },
            "type": "scattergl"
           }
          ],
          "scattermapbox": [
           {
            "marker": {
             "colorbar": {
              "outlinewidth": 0,
              "ticks": ""
             }
            },
            "type": "scattermapbox"
           }
          ],
          "scatterpolar": [
           {
            "marker": {
             "colorbar": {
              "outlinewidth": 0,
              "ticks": ""
             }
            },
            "type": "scatterpolar"
           }
          ],
          "scatterpolargl": [
           {
            "marker": {
             "colorbar": {
              "outlinewidth": 0,
              "ticks": ""
             }
            },
            "type": "scatterpolargl"
           }
          ],
          "scatterternary": [
           {
            "marker": {
             "colorbar": {
              "outlinewidth": 0,
              "ticks": ""
             }
            },
            "type": "scatterternary"
           }
          ],
          "surface": [
           {
            "colorbar": {
             "outlinewidth": 0,
             "ticks": ""
            },
            "colorscale": [
             [
              0,
              "#0d0887"
             ],
             [
              0.1111111111111111,
              "#46039f"
             ],
             [
              0.2222222222222222,
              "#7201a8"
             ],
             [
              0.3333333333333333,
              "#9c179e"
             ],
             [
              0.4444444444444444,
              "#bd3786"
             ],
             [
              0.5555555555555556,
              "#d8576b"
             ],
             [
              0.6666666666666666,
              "#ed7953"
             ],
             [
              0.7777777777777778,
              "#fb9f3a"
             ],
             [
              0.8888888888888888,
              "#fdca26"
             ],
             [
              1,
              "#f0f921"
             ]
            ],
            "type": "surface"
           }
          ],
          "table": [
           {
            "cells": {
             "fill": {
              "color": "#EBF0F8"
             },
             "line": {
              "color": "white"
             }
            },
            "header": {
             "fill": {
              "color": "#C8D4E3"
             },
             "line": {
              "color": "white"
             }
            },
            "type": "table"
           }
          ]
         },
         "layout": {
          "annotationdefaults": {
           "arrowcolor": "#2a3f5f",
           "arrowhead": 0,
           "arrowwidth": 1
          },
          "autotypenumbers": "strict",
          "coloraxis": {
           "colorbar": {
            "outlinewidth": 0,
            "ticks": ""
           }
          },
          "colorscale": {
           "diverging": [
            [
             0,
             "#8e0152"
            ],
            [
             0.1,
             "#c51b7d"
            ],
            [
             0.2,
             "#de77ae"
            ],
            [
             0.3,
             "#f1b6da"
            ],
            [
             0.4,
             "#fde0ef"
            ],
            [
             0.5,
             "#f7f7f7"
            ],
            [
             0.6,
             "#e6f5d0"
            ],
            [
             0.7,
             "#b8e186"
            ],
            [
             0.8,
             "#7fbc41"
            ],
            [
             0.9,
             "#4d9221"
            ],
            [
             1,
             "#276419"
            ]
           ],
           "sequential": [
            [
             0,
             "#0d0887"
            ],
            [
             0.1111111111111111,
             "#46039f"
            ],
            [
             0.2222222222222222,
             "#7201a8"
            ],
            [
             0.3333333333333333,
             "#9c179e"
            ],
            [
             0.4444444444444444,
             "#bd3786"
            ],
            [
             0.5555555555555556,
             "#d8576b"
            ],
            [
             0.6666666666666666,
             "#ed7953"
            ],
            [
             0.7777777777777778,
             "#fb9f3a"
            ],
            [
             0.8888888888888888,
             "#fdca26"
            ],
            [
             1,
             "#f0f921"
            ]
           ],
           "sequentialminus": [
            [
             0,
             "#0d0887"
            ],
            [
             0.1111111111111111,
             "#46039f"
            ],
            [
             0.2222222222222222,
             "#7201a8"
            ],
            [
             0.3333333333333333,
             "#9c179e"
            ],
            [
             0.4444444444444444,
             "#bd3786"
            ],
            [
             0.5555555555555556,
             "#d8576b"
            ],
            [
             0.6666666666666666,
             "#ed7953"
            ],
            [
             0.7777777777777778,
             "#fb9f3a"
            ],
            [
             0.8888888888888888,
             "#fdca26"
            ],
            [
             1,
             "#f0f921"
            ]
           ]
          },
          "colorway": [
           "#636efa",
           "#EF553B",
           "#00cc96",
           "#ab63fa",
           "#FFA15A",
           "#19d3f3",
           "#FF6692",
           "#B6E880",
           "#FF97FF",
           "#FECB52"
          ],
          "font": {
           "color": "#2a3f5f"
          },
          "geo": {
           "bgcolor": "white",
           "lakecolor": "white",
           "landcolor": "#E5ECF6",
           "showlakes": true,
           "showland": true,
           "subunitcolor": "white"
          },
          "hoverlabel": {
           "align": "left"
          },
          "hovermode": "closest",
          "mapbox": {
           "style": "light"
          },
          "paper_bgcolor": "white",
          "plot_bgcolor": "#E5ECF6",
          "polar": {
           "angularaxis": {
            "gridcolor": "white",
            "linecolor": "white",
            "ticks": ""
           },
           "bgcolor": "#E5ECF6",
           "radialaxis": {
            "gridcolor": "white",
            "linecolor": "white",
            "ticks": ""
           }
          },
          "scene": {
           "xaxis": {
            "backgroundcolor": "#E5ECF6",
            "gridcolor": "white",
            "gridwidth": 2,
            "linecolor": "white",
            "showbackground": true,
            "ticks": "",
            "zerolinecolor": "white"
           },
           "yaxis": {
            "backgroundcolor": "#E5ECF6",
            "gridcolor": "white",
            "gridwidth": 2,
            "linecolor": "white",
            "showbackground": true,
            "ticks": "",
            "zerolinecolor": "white"
           },
           "zaxis": {
            "backgroundcolor": "#E5ECF6",
            "gridcolor": "white",
            "gridwidth": 2,
            "linecolor": "white",
            "showbackground": true,
            "ticks": "",
            "zerolinecolor": "white"
           }
          },
          "shapedefaults": {
           "line": {
            "color": "#2a3f5f"
           }
          },
          "ternary": {
           "aaxis": {
            "gridcolor": "white",
            "linecolor": "white",
            "ticks": ""
           },
           "baxis": {
            "gridcolor": "white",
            "linecolor": "white",
            "ticks": ""
           },
           "bgcolor": "#E5ECF6",
           "caxis": {
            "gridcolor": "white",
            "linecolor": "white",
            "ticks": ""
           }
          },
          "title": {
           "x": 0.05
          },
          "xaxis": {
           "automargin": true,
           "gridcolor": "white",
           "linecolor": "white",
           "ticks": "",
           "title": {
            "standoff": 15
           },
           "zerolinecolor": "white",
           "zerolinewidth": 2
          },
          "yaxis": {
           "automargin": true,
           "gridcolor": "white",
           "linecolor": "white",
           "ticks": "",
           "title": {
            "standoff": 15
           },
           "zerolinecolor": "white",
           "zerolinewidth": 2
          }
         }
        },
        "xaxis": {
         "anchor": "y",
         "domain": [
          0,
          1
         ],
         "title": {
          "text": "period"
         }
        },
        "yaxis": {
         "anchor": "x",
         "domain": [
          0,
          1
         ],
         "title": {
          "text": "pct_cohort"
         }
        }
       }
      }
     },
     "metadata": {},
     "output_type": "display_data"
    }
   ],
   "source": [
    "#Hue is state, or the cohort by states\n",
    "fig_state = px.line(cohort_by_state, x=\"period\", y=\"pct_cohort\", color=\"state\")\n",
    "fig_state.show()"
   ]
  },
  {
   "cell_type": "markdown",
   "metadata": {},
   "source": [
    "Little bit chaotic but understandable."
   ]
  },
  {
   "cell_type": "markdown",
   "metadata": {},
   "source": [
    "### Queries the cohort by genders"
   ]
  },
  {
   "cell_type": "code",
   "execution_count": 10,
   "metadata": {},
   "outputs": [
    {
     "name": "stdout",
     "output_type": "stream",
     "text": [
      "Returning data to local variable cohort_by_gender\n"
     ]
    }
   ],
   "source": [
    "%%sql cohort_by_gender <<\n",
    "SELECT\n",
    "    period,\n",
    "    gender,\n",
    "    first_value(cohort_retained) over (partition by gender \n",
    "                                        order by period) as cohort_size,\n",
    "    cohort_retained,\n",
    "    cohort_retained::DOUBLE / (first_value(cohort_retained) \n",
    "                                over (partition by gender order by period))::DOUBLE\n",
    "                                as pct_cohort\n",
    "FROM \n",
    "(\n",
    "    SELECT \n",
    "        date_part('year', AGE(b.term_start, a.first_term)) as period,\n",
    "        c.gender,\n",
    "        COUNT(DISTINCT a.id_bioguide) as cohort_retained\n",
    "    FROM \n",
    "    (\n",
    "        SELECT \n",
    "            id_bioguide,\n",
    "            min(term_start) as first_term\n",
    "        FROM legislators_terms\n",
    "        GROUP BY 1\n",
    "    ) a\n",
    "    JOIN legislators_terms b ON a.id_bioguide = b.id_bioguide\n",
    "    JOIN legislators c ON c.id_bioguide = b.id_bioguide\n",
    "    GROUP BY 1, 2   \n",
    ") aa\n",
    ";"
   ]
  },
  {
   "cell_type": "markdown",
   "metadata": {},
   "source": [
    "This part is where i have to check the survivor's bias since yeah, I have just took the overal cohort size to calculate the cohort percentage -> the retention cohort would be higher since the number of men is larger than women.\n",
    "\n",
    "It can be fixed by use the partition by gender on the select part of top layer."
   ]
  },
  {
   "cell_type": "code",
   "execution_count": 11,
   "metadata": {},
   "outputs": [
    {
     "data": {
      "application/vnd.plotly.v1+json": {
       "config": {
        "plotlyServerURL": "https://plot.ly"
       },
       "data": [
        {
         "hovertemplate": "gender=F<br>period=%{x}<br>pct_cohort=%{y}<extra></extra>",
         "legendgroup": "F",
         "line": {
          "color": "#636efa",
          "dash": "solid"
         },
         "marker": {
          "symbol": "circle"
         },
         "mode": "lines",
         "name": "F",
         "orientation": "v",
         "showlegend": true,
         "type": "scatter",
         "x": [
          0,
          1,
          2,
          3,
          4,
          5,
          6,
          7,
          8,
          9,
          10,
          11,
          12,
          13,
          14,
          15,
          16,
          17,
          18,
          19,
          20,
          21,
          22,
          23,
          24,
          25,
          26,
          27,
          28,
          29,
          30,
          31,
          32,
          33,
          34,
          35,
          36
         ],
         "xaxis": "x",
         "y": [
          1,
          0.3333333333333333,
          0.30601092896174864,
          0.16666666666666666,
          0.37158469945355194,
          0.16666666666666666,
          0.29508196721311475,
          0.20218579234972678,
          0.14207650273224043,
          0.10655737704918032,
          0.16666666666666666,
          0.13387978142076504,
          0.10382513661202186,
          0.12295081967213115,
          0.06284153005464481,
          0.03825136612021858,
          0.10655737704918032,
          0.04371584699453552,
          0.06557377049180328,
          0.04918032786885246,
          0.03825136612021858,
          0.02459016393442623,
          0.05737704918032787,
          0.03551912568306011,
          0.01912568306010929,
          0.0273224043715847,
          0.02185792349726776,
          0.00546448087431694,
          0.03551912568306011,
          0.00819672131147541,
          0.00819672131147541,
          0.00546448087431694,
          0.00546448087431694,
          0.00273224043715847,
          0.00819672131147541,
          0.00273224043715847,
          0.00273224043715847
         ],
         "yaxis": "y"
        },
        {
         "hovertemplate": "gender=M<br>period=%{x}<br>pct_cohort=%{y}<extra></extra>",
         "legendgroup": "M",
         "line": {
          "color": "#EF553B",
          "dash": "solid"
         },
         "marker": {
          "symbol": "circle"
         },
         "mode": "lines",
         "name": "M",
         "orientation": "v",
         "showlegend": true,
         "type": "scatter",
         "x": [
          0,
          1,
          2,
          3,
          4,
          5,
          6,
          7,
          8,
          9,
          10,
          11,
          12,
          13,
          14,
          15,
          16,
          17,
          18,
          19,
          20,
          21,
          22,
          23,
          24,
          25,
          26,
          27,
          28,
          29,
          30,
          31,
          32,
          33,
          34,
          35,
          36,
          37,
          38,
          39,
          40,
          41,
          42,
          43,
          44,
          45,
          46,
          47,
          48,
          49,
          50,
          51,
          52,
          53,
          54,
          56,
          57
         ],
         "xaxis": "x",
         "y": [
          1,
          0.2862080315997367,
          0.28859447004608296,
          0.1456550362080316,
          0.2529624753127057,
          0.13849572086899276,
          0.18737656352863727,
          0.10582620144832126,
          0.12796247531270571,
          0.08138578011849901,
          0.11002304147465437,
          0.07151086240947992,
          0.09438775510204081,
          0.06698485845951284,
          0.056945358788676764,
          0.03489137590520079,
          0.06690256747860435,
          0.0446017116524029,
          0.04295589203423305,
          0.02921329822251481,
          0.031599736668861095,
          0.02230085582620145,
          0.02946017116524029,
          0.024358130348913758,
          0.018104015799868336,
          0.017527978933508888,
          0.013989466754443713,
          0.009628044766293614,
          0.014400921658986175,
          0.011356155365371955,
          0.008722843976300198,
          0.007241606319947334,
          0.006254114549045424,
          0.004937458854509546,
          0.005184331797235023,
          0.004855167873601053,
          0.003127057274522712,
          0.0035385121790651743,
          0.002139565503620803,
          0.002551020408163265,
          0.001152073732718894,
          0.0014812376563528638,
          0.0013166556945358788,
          0.0009874917709019092,
          0.000576036866359447,
          0.001152073732718894,
          0.0002468729427254773,
          0.0004937458854509546,
          0.00041145490454246215,
          0.0002468729427254773,
          0.0003291639236339697,
          0.00041145490454246215,
          0.00008229098090849243,
          0.00008229098090849243,
          0.00016458196181698485,
          0.00008229098090849243,
          0.00008229098090849243
         ],
         "yaxis": "y"
        }
       ],
       "layout": {
        "legend": {
         "title": {
          "text": "gender"
         },
         "tracegroupgap": 0
        },
        "margin": {
         "t": 60
        },
        "template": {
         "data": {
          "bar": [
           {
            "error_x": {
             "color": "#2a3f5f"
            },
            "error_y": {
             "color": "#2a3f5f"
            },
            "marker": {
             "line": {
              "color": "#E5ECF6",
              "width": 0.5
             },
             "pattern": {
              "fillmode": "overlay",
              "size": 10,
              "solidity": 0.2
             }
            },
            "type": "bar"
           }
          ],
          "barpolar": [
           {
            "marker": {
             "line": {
              "color": "#E5ECF6",
              "width": 0.5
             },
             "pattern": {
              "fillmode": "overlay",
              "size": 10,
              "solidity": 0.2
             }
            },
            "type": "barpolar"
           }
          ],
          "carpet": [
           {
            "aaxis": {
             "endlinecolor": "#2a3f5f",
             "gridcolor": "white",
             "linecolor": "white",
             "minorgridcolor": "white",
             "startlinecolor": "#2a3f5f"
            },
            "baxis": {
             "endlinecolor": "#2a3f5f",
             "gridcolor": "white",
             "linecolor": "white",
             "minorgridcolor": "white",
             "startlinecolor": "#2a3f5f"
            },
            "type": "carpet"
           }
          ],
          "choropleth": [
           {
            "colorbar": {
             "outlinewidth": 0,
             "ticks": ""
            },
            "type": "choropleth"
           }
          ],
          "contour": [
           {
            "colorbar": {
             "outlinewidth": 0,
             "ticks": ""
            },
            "colorscale": [
             [
              0,
              "#0d0887"
             ],
             [
              0.1111111111111111,
              "#46039f"
             ],
             [
              0.2222222222222222,
              "#7201a8"
             ],
             [
              0.3333333333333333,
              "#9c179e"
             ],
             [
              0.4444444444444444,
              "#bd3786"
             ],
             [
              0.5555555555555556,
              "#d8576b"
             ],
             [
              0.6666666666666666,
              "#ed7953"
             ],
             [
              0.7777777777777778,
              "#fb9f3a"
             ],
             [
              0.8888888888888888,
              "#fdca26"
             ],
             [
              1,
              "#f0f921"
             ]
            ],
            "type": "contour"
           }
          ],
          "contourcarpet": [
           {
            "colorbar": {
             "outlinewidth": 0,
             "ticks": ""
            },
            "type": "contourcarpet"
           }
          ],
          "heatmap": [
           {
            "colorbar": {
             "outlinewidth": 0,
             "ticks": ""
            },
            "colorscale": [
             [
              0,
              "#0d0887"
             ],
             [
              0.1111111111111111,
              "#46039f"
             ],
             [
              0.2222222222222222,
              "#7201a8"
             ],
             [
              0.3333333333333333,
              "#9c179e"
             ],
             [
              0.4444444444444444,
              "#bd3786"
             ],
             [
              0.5555555555555556,
              "#d8576b"
             ],
             [
              0.6666666666666666,
              "#ed7953"
             ],
             [
              0.7777777777777778,
              "#fb9f3a"
             ],
             [
              0.8888888888888888,
              "#fdca26"
             ],
             [
              1,
              "#f0f921"
             ]
            ],
            "type": "heatmap"
           }
          ],
          "heatmapgl": [
           {
            "colorbar": {
             "outlinewidth": 0,
             "ticks": ""
            },
            "colorscale": [
             [
              0,
              "#0d0887"
             ],
             [
              0.1111111111111111,
              "#46039f"
             ],
             [
              0.2222222222222222,
              "#7201a8"
             ],
             [
              0.3333333333333333,
              "#9c179e"
             ],
             [
              0.4444444444444444,
              "#bd3786"
             ],
             [
              0.5555555555555556,
              "#d8576b"
             ],
             [
              0.6666666666666666,
              "#ed7953"
             ],
             [
              0.7777777777777778,
              "#fb9f3a"
             ],
             [
              0.8888888888888888,
              "#fdca26"
             ],
             [
              1,
              "#f0f921"
             ]
            ],
            "type": "heatmapgl"
           }
          ],
          "histogram": [
           {
            "marker": {
             "pattern": {
              "fillmode": "overlay",
              "size": 10,
              "solidity": 0.2
             }
            },
            "type": "histogram"
           }
          ],
          "histogram2d": [
           {
            "colorbar": {
             "outlinewidth": 0,
             "ticks": ""
            },
            "colorscale": [
             [
              0,
              "#0d0887"
             ],
             [
              0.1111111111111111,
              "#46039f"
             ],
             [
              0.2222222222222222,
              "#7201a8"
             ],
             [
              0.3333333333333333,
              "#9c179e"
             ],
             [
              0.4444444444444444,
              "#bd3786"
             ],
             [
              0.5555555555555556,
              "#d8576b"
             ],
             [
              0.6666666666666666,
              "#ed7953"
             ],
             [
              0.7777777777777778,
              "#fb9f3a"
             ],
             [
              0.8888888888888888,
              "#fdca26"
             ],
             [
              1,
              "#f0f921"
             ]
            ],
            "type": "histogram2d"
           }
          ],
          "histogram2dcontour": [
           {
            "colorbar": {
             "outlinewidth": 0,
             "ticks": ""
            },
            "colorscale": [
             [
              0,
              "#0d0887"
             ],
             [
              0.1111111111111111,
              "#46039f"
             ],
             [
              0.2222222222222222,
              "#7201a8"
             ],
             [
              0.3333333333333333,
              "#9c179e"
             ],
             [
              0.4444444444444444,
              "#bd3786"
             ],
             [
              0.5555555555555556,
              "#d8576b"
             ],
             [
              0.6666666666666666,
              "#ed7953"
             ],
             [
              0.7777777777777778,
              "#fb9f3a"
             ],
             [
              0.8888888888888888,
              "#fdca26"
             ],
             [
              1,
              "#f0f921"
             ]
            ],
            "type": "histogram2dcontour"
           }
          ],
          "mesh3d": [
           {
            "colorbar": {
             "outlinewidth": 0,
             "ticks": ""
            },
            "type": "mesh3d"
           }
          ],
          "parcoords": [
           {
            "line": {
             "colorbar": {
              "outlinewidth": 0,
              "ticks": ""
             }
            },
            "type": "parcoords"
           }
          ],
          "pie": [
           {
            "automargin": true,
            "type": "pie"
           }
          ],
          "scatter": [
           {
            "fillpattern": {
             "fillmode": "overlay",
             "size": 10,
             "solidity": 0.2
            },
            "type": "scatter"
           }
          ],
          "scatter3d": [
           {
            "line": {
             "colorbar": {
              "outlinewidth": 0,
              "ticks": ""
             }
            },
            "marker": {
             "colorbar": {
              "outlinewidth": 0,
              "ticks": ""
             }
            },
            "type": "scatter3d"
           }
          ],
          "scattercarpet": [
           {
            "marker": {
             "colorbar": {
              "outlinewidth": 0,
              "ticks": ""
             }
            },
            "type": "scattercarpet"
           }
          ],
          "scattergeo": [
           {
            "marker": {
             "colorbar": {
              "outlinewidth": 0,
              "ticks": ""
             }
            },
            "type": "scattergeo"
           }
          ],
          "scattergl": [
           {
            "marker": {
             "colorbar": {
              "outlinewidth": 0,
              "ticks": ""
             }
            },
            "type": "scattergl"
           }
          ],
          "scattermapbox": [
           {
            "marker": {
             "colorbar": {
              "outlinewidth": 0,
              "ticks": ""
             }
            },
            "type": "scattermapbox"
           }
          ],
          "scatterpolar": [
           {
            "marker": {
             "colorbar": {
              "outlinewidth": 0,
              "ticks": ""
             }
            },
            "type": "scatterpolar"
           }
          ],
          "scatterpolargl": [
           {
            "marker": {
             "colorbar": {
              "outlinewidth": 0,
              "ticks": ""
             }
            },
            "type": "scatterpolargl"
           }
          ],
          "scatterternary": [
           {
            "marker": {
             "colorbar": {
              "outlinewidth": 0,
              "ticks": ""
             }
            },
            "type": "scatterternary"
           }
          ],
          "surface": [
           {
            "colorbar": {
             "outlinewidth": 0,
             "ticks": ""
            },
            "colorscale": [
             [
              0,
              "#0d0887"
             ],
             [
              0.1111111111111111,
              "#46039f"
             ],
             [
              0.2222222222222222,
              "#7201a8"
             ],
             [
              0.3333333333333333,
              "#9c179e"
             ],
             [
              0.4444444444444444,
              "#bd3786"
             ],
             [
              0.5555555555555556,
              "#d8576b"
             ],
             [
              0.6666666666666666,
              "#ed7953"
             ],
             [
              0.7777777777777778,
              "#fb9f3a"
             ],
             [
              0.8888888888888888,
              "#fdca26"
             ],
             [
              1,
              "#f0f921"
             ]
            ],
            "type": "surface"
           }
          ],
          "table": [
           {
            "cells": {
             "fill": {
              "color": "#EBF0F8"
             },
             "line": {
              "color": "white"
             }
            },
            "header": {
             "fill": {
              "color": "#C8D4E3"
             },
             "line": {
              "color": "white"
             }
            },
            "type": "table"
           }
          ]
         },
         "layout": {
          "annotationdefaults": {
           "arrowcolor": "#2a3f5f",
           "arrowhead": 0,
           "arrowwidth": 1
          },
          "autotypenumbers": "strict",
          "coloraxis": {
           "colorbar": {
            "outlinewidth": 0,
            "ticks": ""
           }
          },
          "colorscale": {
           "diverging": [
            [
             0,
             "#8e0152"
            ],
            [
             0.1,
             "#c51b7d"
            ],
            [
             0.2,
             "#de77ae"
            ],
            [
             0.3,
             "#f1b6da"
            ],
            [
             0.4,
             "#fde0ef"
            ],
            [
             0.5,
             "#f7f7f7"
            ],
            [
             0.6,
             "#e6f5d0"
            ],
            [
             0.7,
             "#b8e186"
            ],
            [
             0.8,
             "#7fbc41"
            ],
            [
             0.9,
             "#4d9221"
            ],
            [
             1,
             "#276419"
            ]
           ],
           "sequential": [
            [
             0,
             "#0d0887"
            ],
            [
             0.1111111111111111,
             "#46039f"
            ],
            [
             0.2222222222222222,
             "#7201a8"
            ],
            [
             0.3333333333333333,
             "#9c179e"
            ],
            [
             0.4444444444444444,
             "#bd3786"
            ],
            [
             0.5555555555555556,
             "#d8576b"
            ],
            [
             0.6666666666666666,
             "#ed7953"
            ],
            [
             0.7777777777777778,
             "#fb9f3a"
            ],
            [
             0.8888888888888888,
             "#fdca26"
            ],
            [
             1,
             "#f0f921"
            ]
           ],
           "sequentialminus": [
            [
             0,
             "#0d0887"
            ],
            [
             0.1111111111111111,
             "#46039f"
            ],
            [
             0.2222222222222222,
             "#7201a8"
            ],
            [
             0.3333333333333333,
             "#9c179e"
            ],
            [
             0.4444444444444444,
             "#bd3786"
            ],
            [
             0.5555555555555556,
             "#d8576b"
            ],
            [
             0.6666666666666666,
             "#ed7953"
            ],
            [
             0.7777777777777778,
             "#fb9f3a"
            ],
            [
             0.8888888888888888,
             "#fdca26"
            ],
            [
             1,
             "#f0f921"
            ]
           ]
          },
          "colorway": [
           "#636efa",
           "#EF553B",
           "#00cc96",
           "#ab63fa",
           "#FFA15A",
           "#19d3f3",
           "#FF6692",
           "#B6E880",
           "#FF97FF",
           "#FECB52"
          ],
          "font": {
           "color": "#2a3f5f"
          },
          "geo": {
           "bgcolor": "white",
           "lakecolor": "white",
           "landcolor": "#E5ECF6",
           "showlakes": true,
           "showland": true,
           "subunitcolor": "white"
          },
          "hoverlabel": {
           "align": "left"
          },
          "hovermode": "closest",
          "mapbox": {
           "style": "light"
          },
          "paper_bgcolor": "white",
          "plot_bgcolor": "#E5ECF6",
          "polar": {
           "angularaxis": {
            "gridcolor": "white",
            "linecolor": "white",
            "ticks": ""
           },
           "bgcolor": "#E5ECF6",
           "radialaxis": {
            "gridcolor": "white",
            "linecolor": "white",
            "ticks": ""
           }
          },
          "scene": {
           "xaxis": {
            "backgroundcolor": "#E5ECF6",
            "gridcolor": "white",
            "gridwidth": 2,
            "linecolor": "white",
            "showbackground": true,
            "ticks": "",
            "zerolinecolor": "white"
           },
           "yaxis": {
            "backgroundcolor": "#E5ECF6",
            "gridcolor": "white",
            "gridwidth": 2,
            "linecolor": "white",
            "showbackground": true,
            "ticks": "",
            "zerolinecolor": "white"
           },
           "zaxis": {
            "backgroundcolor": "#E5ECF6",
            "gridcolor": "white",
            "gridwidth": 2,
            "linecolor": "white",
            "showbackground": true,
            "ticks": "",
            "zerolinecolor": "white"
           }
          },
          "shapedefaults": {
           "line": {
            "color": "#2a3f5f"
           }
          },
          "ternary": {
           "aaxis": {
            "gridcolor": "white",
            "linecolor": "white",
            "ticks": ""
           },
           "baxis": {
            "gridcolor": "white",
            "linecolor": "white",
            "ticks": ""
           },
           "bgcolor": "#E5ECF6",
           "caxis": {
            "gridcolor": "white",
            "linecolor": "white",
            "ticks": ""
           }
          },
          "title": {
           "x": 0.05
          },
          "xaxis": {
           "automargin": true,
           "gridcolor": "white",
           "linecolor": "white",
           "ticks": "",
           "title": {
            "standoff": 15
           },
           "zerolinecolor": "white",
           "zerolinewidth": 2
          },
          "yaxis": {
           "automargin": true,
           "gridcolor": "white",
           "linecolor": "white",
           "ticks": "",
           "title": {
            "standoff": 15
           },
           "zerolinecolor": "white",
           "zerolinewidth": 2
          }
         }
        },
        "xaxis": {
         "anchor": "y",
         "domain": [
          0,
          1
         ],
         "title": {
          "text": "period"
         }
        },
        "yaxis": {
         "anchor": "x",
         "domain": [
          0,
          1
         ],
         "title": {
          "text": "pct_cohort"
         }
        }
       }
      }
     },
     "metadata": {},
     "output_type": "display_data"
    }
   ],
   "source": [
    "fig_gender = px.line(cohort_by_gender, x=\"period\", y=\"pct_cohort\", color=\"gender\")\n",
    "fig_gender.show()"
   ]
  },
  {
   "cell_type": "markdown",
   "metadata": {},
   "source": [
    "### Date-time period one: for real"
   ]
  },
  {
   "cell_type": "markdown",
   "metadata": {},
   "source": [
    "First, create a date dimension (copy from [Github](https://gist.github.com/adityawarmanfw/0612333605d351f2f1fe5c87e1af20d2) because we always need built in date-dim table)"
   ]
  },
  {
   "cell_type": "code",
   "execution_count": 38,
   "metadata": {},
   "outputs": [
    {
     "name": "stdout",
     "output_type": "stream",
     "text": [
      "Returning data to local variable date_dim\n"
     ]
    }
   ],
   "source": [
    "%%sql date_dim <<\n",
    "WITH generate_date AS (\n",
    "    SELECT CAST(RANGE AS DATE) AS date_key \n",
    "     FROM RANGE(DATE '1990-01-01', DATE '2010-12-31', INTERVAL 1 DAY)\n",
    "    )\n",
    "SELECT date_key AS date_key,\n",
    "        DAYOFYEAR(date_key) AS day_of_year, \n",
    "        YEARWEEK(date_key) AS week_key,\n",
    "        WEEKOFYEAR(date_key) AS week_of_year,\n",
    "        DAYOFWEEK(date_key) AS day_of_week,\n",
    "        ISODOW(date_key) AS iso_day_of_week,\n",
    "        DAYNAME(date_key) AS day_name,\n",
    "        DATE_TRUNC('week', date_key) AS first_day_of_week,\n",
    "        DATE_TRUNC('week', date_key) + 6 AS last_day_of_week,\n",
    "        YEAR(date_key) || RIGHT('0' || MONTH(date_key), 2) AS month_key,\n",
    "        MONTH(date_key) AS month_of_year,\n",
    "        DAYOFMONTH(date_key) AS day_of_month,\n",
    "        LEFT(MONTHNAME(date_key), 3) AS month_name_short,\n",
    "        MONTHNAME(date_key) AS month_name,\n",
    "        DATE_TRUNC('month', date_key) AS first_day_of_month,\n",
    "        LAST_DAY(date_key) AS last_day_of_month,\n",
    "        CAST(YEAR(date_key) || QUARTER(date_key) AS INT) AS quarter_key,\n",
    "        QUARTER(date_key) AS quarter_of_year,\n",
    "        CAST(date_key - DATE_TRUNC('Quarter', date_key) + 1 AS INT) AS day_of_quarter,\n",
    "        ('Q' || QUARTER(date_key)) AS quarter_desc_short,\n",
    "        ('Quarter ' || QUARTER(date_key)) AS quarter_desc,\n",
    "        DATE_TRUNC('quarter', date_key) AS first_day_of_quarter,\n",
    "        LAST_DAY(DATE_TRUNC('quarter', date_key) + INTERVAL 2 MONTH) as last_day_of_quarter,\n",
    "        CAST(YEAR(date_key) AS INT) AS year_key,\n",
    "        DATE_TRUNC('Year', date_key) AS first_day_of_year,\n",
    "        DATE_TRUNC('Year', date_key) - 1 + INTERVAL 1 YEAR AS last_day_of_year,\n",
    "        ROW_NUMBER() OVER (PARTITION BY YEAR(date_key), MONTH(date_key), DAYOFWEEK(date_key) ORDER BY date_key) AS ordinal_weekday_of_month\n",
    "    FROM generate_date"
   ]
  },
  {
   "cell_type": "markdown",
   "metadata": {},
   "source": [
    "Next, query"
   ]
  }
 ],
 "metadata": {
  "kernelspec": {
   "display_name": "Python 3.10.4 64-bit",
   "language": "python",
   "name": "python3"
  },
  "language_info": {
   "codemirror_mode": {
    "name": "ipython",
    "version": 3
   },
   "file_extension": ".py",
   "mimetype": "text/x-python",
   "name": "python",
   "nbconvert_exporter": "python",
   "pygments_lexer": "ipython3",
   "version": "3.10.4"
  },
  "orig_nbformat": 4,
  "vscode": {
   "interpreter": {
    "hash": "8c3d4d9970fc5c09c50d9318a9c7fbf4d0159e4b28833276f5678ee22bded273"
   }
  }
 },
 "nbformat": 4,
 "nbformat_minor": 2
}
